{
 "cells": [
  {
   "cell_type": "markdown",
   "metadata": {},
   "source": [
    "## Learning From Youtube"
   ]
  },
  {
   "cell_type": "markdown",
   "metadata": {},
   "source": [
    "### Memoization\n",
    "\n",
    "##### NOTE :\n",
    "- For each problem, provide new memoizing storage object to get desire result.\n",
    "- New object doesn't have previous value in it.\n",
    "- Assigning a data value to another variable then deep copy it. [Eg. For list do either -> list[:] or list.copy()]"
   ]
  },
  {
   "cell_type": "code",
   "execution_count": 1,
   "metadata": {},
   "outputs": [
    {
     "name": "stdout",
     "output_type": "stream",
     "text": [
      "5\n",
      "165580141\n",
      "284812298108489611757988937681460995615380088782304890986477195645969271404032323901\n",
      "64574884490948173531376949015369595644413900640151342708407577598177210359034088914449477807287241743760741523783818897499227009742183152482019062763550798743704275106856470216307593623057388506776767202069670477506088895294300509291166023947866841763853953813982281703936665369922709095308006821399524780721049955829191407029943622087779296459174012610148659520381170452591141331949336080577141708645783606636081941915217355115810993973945783493983844592749672661361548061615756595818944317619922097369917676974058206341892088144549337974422952140132621568340701016273422727827762726153066303093052982051757444742428033107522419466219655780413101759505231617222578292486081002391218785189299675757766920269402348733644662725774717740924068828300186439425921761082545463164628807702653752619616157324434040342057336683279284098590801501\n"
     ]
    }
   ],
   "source": [
    "# Fibonnaci - Memoization\n",
    "\n",
    "def fibMemo(n, memo=dict()):\n",
    "    if n < 2:\n",
    "        return 1\n",
    "    if n in memo:\n",
    "        return memo[n]\n",
    "    memo[n] = fibMemo(n-2, memo) + fibMemo(n-1, memo)\n",
    "    return memo[n]\n",
    "\n",
    "print(fibMemo(4))\n",
    "print(fibMemo(40))\n",
    "print(fibMemo(400))\n",
    "print(fibMemo(4000))"
   ]
  },
  {
   "cell_type": "code",
   "execution_count": 8,
   "metadata": {},
   "outputs": [
    {
     "name": "stdout",
     "output_type": "stream",
     "text": [
      "28\n",
      "3\n",
      "2\n",
      "6\n"
     ]
    }
   ],
   "source": [
    "# LC : 62. Unique Paths (https://leetcode.com/problems/unique-paths/)\n",
    "\n",
    "def gridTravelerMemo(m, n):\n",
    "    # direction = [(0, 1), (1, 0)] # \n",
    "\n",
    "    def findPath(m, n, p = dict()):\n",
    "        if m == 1 and n == 1:\n",
    "            return 1\n",
    "        if m == 0 or n == 0:\n",
    "            return 0\n",
    "        if (m, n) in p:\n",
    "            return p[(m, n)]\n",
    "        p[(m, n)] = findPath(m , n - 1, p) + findPath(m - 1, n, p)\n",
    "        return p[(m, n)]\n",
    "    \n",
    "    return findPath(m, n)\n",
    "\n",
    "print(gridTravelerMemo(3, 7))   # 28\n",
    "print(gridTravelerMemo(3, 2))   # 3\n",
    "print(gridTravelerMemo(2, 2))   # 2\n",
    "print(gridTravelerMemo(3, 3))   # 6"
   ]
  },
  {
   "cell_type": "code",
   "execution_count": 58,
   "metadata": {},
   "outputs": [
    {
     "name": "stdout",
     "output_type": "stream",
     "text": [
      "True\n",
      "False\n",
      "True\n",
      "False\n"
     ]
    }
   ],
   "source": [
    "# Can you do it? Yes / No\n",
    "# Decision Problem\n",
    "\n",
    "def canSumMemo(targetSum, numbers, memo=dict()):\n",
    "    if targetSum in memo:\n",
    "        return memo[targetSum]\n",
    "    \n",
    "    if targetSum == 0:\n",
    "        return True\n",
    "    \n",
    "    if targetSum < 0:\n",
    "        return False\n",
    "    \n",
    "    for num in numbers:\n",
    "        reminder = targetSum - num\n",
    "        if canSumMemo(reminder, numbers, memo):\n",
    "            memo[targetSum] = True\n",
    "            return True\n",
    "    \n",
    "    memo[targetSum] = False\n",
    "    return False\n",
    "\n",
    "\n",
    "# print(canSumMemo(7, [5, 3, 4, 7]))  # True\n",
    "# print(canSumMemo(300, [7, 14]))     # False\n",
    "# print(canSumMemo(8, [2, 3, 5]))     # True\n",
    "# print(canSumMemo(7, [2, 4]))        # False but it is returning True because it is having the previous value in memo.\n",
    "\n",
    "print(canSumMemo(7, [5, 3, 4, 7], {}))  # True\n",
    "print(canSumMemo(300, [7, 14], {}))     # False\n",
    "print(canSumMemo(8, [2, 3, 5], {}))     # True\n",
    "print(canSumMemo(7, [2, 4], {}))        # False"
   ]
  },
  {
   "cell_type": "code",
   "execution_count": 60,
   "metadata": {},
   "outputs": [
    {
     "name": "stdout",
     "output_type": "stream",
     "text": [
      "[4, 3]\n",
      "None\n",
      "[3, 2, 2]\n",
      "None\n",
      "[2, 2, 2, 2]\n"
     ]
    }
   ],
   "source": [
    "# How will you do it? a combination list of multiple combination, if can't then None\n",
    "# Combinatoric Problem\n",
    "\n",
    "def howSumMemo(target, numbers, memo=dict()):\n",
    "    # print(memo)\n",
    "    if target in memo: return memo[target]\n",
    "    if target == 0: return []\n",
    "    if target < 0: return None\n",
    "\n",
    "    for num in numbers:\n",
    "        reminder = target - num\n",
    "        result = howSumMemo(reminder, numbers, memo)\n",
    "        if result is not None:\n",
    "            combination = result[:] + [num]\n",
    "            memo[target] = combination[:]\n",
    "            # return result\n",
    "            return memo[target]\n",
    "    memo[target] = None\n",
    "    return None\n",
    "\n",
    "\"\"\"\n",
    "> Brute\n",
    "TC : O(N^M * M)\n",
    "SC : O(M)\n",
    "\n",
    "> Memoized\n",
    "TC : O(N * M^2)\n",
    "SC : O(M^2)\n",
    "\"\"\"\n",
    "# Here, memo variable carry the data from previous one.\n",
    "# print(howSumMemo(7, [5, 3, 4, 7]))  # [4, 3]\n",
    "# print(howSumMemo(7, [2, 4]))        # None\n",
    "# print(howSumMemo(7, [2, 3]))        # [3, 2, 2]\n",
    "# print(howSumMemo(300, [7, 14]))     # None\n",
    "# print(howSumMemo(8, [2, 3, 5]))     # [2, 2, 2, 2]\n",
    "\n",
    "# Above problem can be tackled by provide new memo every time.\n",
    "print(howSumMemo(7, [5, 3, 4, 7], {}))  # [4, 3]\n",
    "print(howSumMemo(7, [2, 4], {}))        # None\n",
    "print(howSumMemo(7, [2, 3], {}))        # [3, 2, 2]\n",
    "print(howSumMemo(300, [7, 14], {}))     # None\n",
    "print(howSumMemo(8, [2, 3, 5], {}))     # [2, 2, 2, 2]"
   ]
  },
  {
   "cell_type": "code",
   "execution_count": 52,
   "metadata": {},
   "outputs": [
    {
     "name": "stdout",
     "output_type": "stream",
     "text": [
      "[7]\n",
      "None\n",
      "[5, 3]\n",
      "[4, 4]\n",
      "[25, 25, 25, 25]\n"
     ]
    }
   ],
   "source": [
    "# What is the best way to do it? Provide less combination sum lenght out various multiple combination if can't then None\n",
    "# Optimization Problem\n",
    "\n",
    "def bestSumMemo(target, numbers, memo):\n",
    "    if target in memo: return memo[target]\n",
    "    if target == 0: return []\n",
    "    if target < 0: return None\n",
    "\n",
    "    # To return shortest combination out of all.\n",
    "    shortestCombination = None\n",
    "\n",
    "    for num in numbers:\n",
    "        reminder = target - num\n",
    "        combination = bestSumMemo(reminder, numbers, memo)\n",
    "\n",
    "        if combination is not None:\n",
    "            resultant = combination[:] + [num] # Deep Copy\n",
    "            if shortestCombination is None or len(shortestCombination) > len(resultant):\n",
    "                shortestCombination = resultant[:] # Deep Copy\n",
    "            # Here, we need to return shortest combination rather first combination, so removing return here\n",
    "            # return resultant\n",
    "    \n",
    "    # return None\n",
    "    memo[target] = shortestCombination[:] if shortestCombination else None # Deep Copy\n",
    "    return shortestCombination\n",
    "\n",
    "print(bestSumMemo(7, [5, 3, 4, 7], dict()))     # [7]\n",
    "print(bestSumMemo(7, [2, 4], dict()))           # None\n",
    "print(bestSumMemo(8, [2, 3, 5], dict()))        # [5, 3]\n",
    "print(bestSumMemo(8, [2, 4, 5], dict()))        # [4, 4]\n",
    "print(bestSumMemo(100, [1, 2, 5, 25], dict()))  # [25, 25, 25, 25]"
   ]
  },
  {
   "cell_type": "code",
   "execution_count": 168,
   "metadata": {},
   "outputs": [
    {
     "name": "stdout",
     "output_type": "stream",
     "text": [
      "True\n",
      "False\n",
      "True\n",
      "False\n"
     ]
    }
   ],
   "source": [
    "def canConstructMemo(target, words, memo):\n",
    "    if target in memo:\n",
    "        return memo[target]\n",
    "    if target == '': \n",
    "        return True\n",
    "\n",
    "    for word in words:\n",
    "        # if len(word) <= len(target) and word == target[:len(word)]:\n",
    "        if target.startswith(word):\n",
    "            suffix = target.lstrip(word)\n",
    "            # if canConstructMemo(target[len(word):], words):\n",
    "            if canConstructMemo(suffix, words, memo):\n",
    "                memo[target] = True\n",
    "                return True\n",
    "    memo[target] = False\n",
    "    return False\n",
    "\n",
    "\"\"\"\n",
    "> BRUTE\n",
    "TC : O(M^N) ; M = words_list, N = target_string_lenght | height of the tree = N, branching factor = M\n",
    "SC : O(N)\n",
    "\n",
    "> MEMOIZED - Optimized\n",
    "TC : O(M * N^2)\n",
    "SC : O(N)\n",
    "\"\"\"\n",
    "\n",
    "print(canConstructMemo(\"abcdef\", [\"ab\", \"abc\", \"cd\", \"def\", \"abcd\"], {}))                 # True\n",
    "print(canConstructMemo(\"skateboard\", [\"bo\", \"rd\", \"ate\", \"t\", \"ska\", \"sk\", \"boar\"], {}))    # False\n",
    "print(canConstructMemo(\"enterapotentpot\", [\"a\", \"p\", \"ent\", \"enter\", \"o\", \"ot\", \"t\"], {}))  # True\n",
    "print(canConstructMemo(\"eeeeeeeeeeeeeeeeeeeeeeeeeeeeeeeeeeeeeeeeeeeeeeeeeeeeeeeeeeeeeeeeeeeeeeeeeeeeef\", [\"e\", \"ee\", \"eee\", \"eeee\", \"eeeee\", \"eeeeee\"], {}))                 # False\n"
   ]
  },
  {
   "cell_type": "code",
   "execution_count": 166,
   "metadata": {},
   "outputs": [
    {
     "name": "stdout",
     "output_type": "stream",
     "text": [
      "1\n",
      "0\n",
      "4\n",
      "0\n",
      "2\n",
      "0\n"
     ]
    }
   ],
   "source": [
    "def countConstructMemo(target, words, memo):\n",
    "    if target in memo:\n",
    "        return memo[target]\n",
    "    if \"\" == target:\n",
    "        return 1\n",
    "    result = 0\n",
    "    for word in words:\n",
    "        if target.startswith(word):\n",
    "            suffix = target.lstrip(word)\n",
    "            numWays = countConstructMemo(suffix, words, memo)\n",
    "            result += numWays\n",
    "    \n",
    "    memo[target] = result\n",
    "    return result\n",
    "\n",
    "print(countConstructMemo(\"abcdef\", [\"ab\", \"abc\", \"cd\", \"def\", \"abcd\"], dict()))                         # 1\n",
    "print(countConstructMemo(\"skateboard\", [\"bo\", \"rd\", \"ate\", \"t\", \"ska\", \"sk\", \"boar\"], dict()))          # 0\n",
    "print(countConstructMemo(\"enterapotentpot\", [\"a\", \"p\", \"ent\", \"enter\", \"o\", \"ot\", \"t\"], dict()))        # 4\n",
    "print(countConstructMemo(\"eeeeeeeeeeeeeeeeeeeeeeeeeeeeeeeeeeeeeeeeeeeeeeeeeeeeeeeeeeeeeeeeeeeeeeeeeeeeef\"\n",
    "                         , [\"e\", \"ee\", \"eee\", \"eeee\", \"eeeee\", \"eeeeee\"], dict()))                      # 0\n",
    "print(countConstructMemo(\"purple\", [\"purp\", \"p\", \"ur\", \"le\", \"purpl\"], dict()))                         # 2\n",
    "print(countConstructMemo(\"aaaaaaaaaaaaaaaaaaaaaaaaaaaz\", [\"a\", \"aa\", \"aaa\", \"aaaa\", \"aaaaa\"], dict()))  # 0"
   ]
  },
  {
   "cell_type": "code",
   "execution_count": 1,
   "metadata": {},
   "outputs": [
    {
     "name": "stdout",
     "output_type": "stream",
     "text": [
      "[['he', 'l', 'l', 'o']]\n",
      "[['h', 'ex', 'ag', 'o', 'no', 's', 'auru', 's'], ['h', 'ex', 'ago', 'no', 's', 'auru', 's'], ['hex', 'ag', 'o', 'no', 's', 'auru', 's'], ['hex', 'ago', 'no', 's', 'auru', 's']]\n",
      "[['abc', 'def']]\n",
      "[]\n",
      "[['enter', 'a', 'p', 'o', 't', 'ent', 'p', 'o', 't'], ['enter', 'a', 'p', 'o', 't', 'ent', 'p', 'ot'], ['enter', 'a', 'p', 'ot', 'ent', 'p', 'o', 't'], ['enter', 'a', 'p', 'ot', 'ent', 'p', 'ot']]\n",
      "[['purp', 'le'], ['p', 'ur', 'p', 'le']]\n",
      "[]\n",
      "[]\n"
     ]
    }
   ],
   "source": [
    "def allConstructMemo(target, words, memo=None):\n",
    "\n",
    "    if memo is None:\n",
    "        memo = dict()\n",
    "\n",
    "    if target in memo:\n",
    "        return memo[target]\n",
    "\n",
    "    # if any(char not in ''.join(words) for char in target):\n",
    "    #     return []\n",
    "\n",
    "    if target == '':\n",
    "        return [[]]\n",
    "\n",
    "    result = []\n",
    "\n",
    "    # for j, word in enumerate(words):\n",
    "        # print(f\"word-{j} : {word}\")\n",
    "    for word in words:\n",
    "        if target.startswith(word):\n",
    "            # suffix = target.lstrip(word)\n",
    "            suffix = target[len(word):] # usage of lstrip bring wrong result so we had alternative\n",
    "            suffix_ways = allConstructMemo(suffix, words, memo)\n",
    "            target_ways = []\n",
    "            # for i, way in enumerate(suffix_ways):\n",
    "                # print(i, [word],  way)\n",
    "            for way in suffix_ways:\n",
    "                target_ways.append([word] + way)\n",
    "            result.extend(target_ways)\n",
    "    \n",
    "    memo[target] = result\n",
    "    return result\n",
    "\n",
    "print(allConstructMemo(\"hello\", [\"he\", \"l\", \"o\"]))  # 1\n",
    "print(allConstructMemo(\"hexagonosaurus\", [\"h\", \"ex\", \"hex\", \"ag\", \"ago\", \"ru\", \"auru\", \"rus\", \"go\", \"no\", \"o\", \"s\"]))   # 4\n",
    "print(allConstructMemo(\"abcdef\", [\"ab\", \"abc\", \"cd\", \"def\", \"abcd\"]))                     # 1\n",
    "print(allConstructMemo(\"skateboard\", [\"bo\", \"rd\", \"ate\", \"t\", \"ska\", \"sk\", \"boar\"]))      # 0\n",
    "print(allConstructMemo(\"enterapotentpot\", [\"a\", \"p\", \"ent\", \"enter\", \"o\", \"ot\", \"t\"]))    # 4\n",
    "print(allConstructMemo(\"purple\", [\"purp\", \"p\", \"ur\", \"le\", \"purpl\"]))    \n",
    "print(allConstructMemo(\"aaaaaaaaaaaaaaaaaaaaaaaaaaaz\", [\"a\", \"aa\", \"aaa\", \"aaaa\", \"aaaaa\"]))    # 0\n",
    "print(allConstructMemo(\"eeeeeeeeeeeeeeeeeeeeeeeeeeeeeeeeeeeeeeeeeeeeeeeeeeeeeeeeeeeeeeeeeeeeeeeeeeeeef\"\n",
    "                         , [\"e\", \"ee\", \"eee\", \"eeee\", \"eeeee\", \"eeeeee\"]))                  # 0"
   ]
  },
  {
   "cell_type": "markdown",
   "metadata": {},
   "source": [
    "### Tabulation\n",
    "\n",
    "##### NOTE :\n",
    "- Visualize the problem as a table.\n",
    "- Size the table based on the inputs.\n",
    "- Initialize the table with the default value.\n",
    "- Seed the trivial answer into the table.\n",
    "- Iterate through the table.\n",
    "- Fill further positions based on current position."
   ]
  },
  {
   "cell_type": "code",
   "execution_count": 4,
   "metadata": {},
   "outputs": [
    {
     "name": "stdout",
     "output_type": "stream",
     "text": [
      "0\n",
      "1\n",
      "1\n",
      "2\n",
      "3\n",
      "5\n",
      "8\n"
     ]
    }
   ],
   "source": [
    "def fibTab(n):\n",
    "    if n < 2:\n",
    "        return n\n",
    "    \n",
    "    tabOutput = [ 0 ] * (n + 1)\n",
    "    tabOutput[1] = 1\n",
    "\n",
    "    for i in range(2, n + 1):\n",
    "        tabOutput[i] = tabOutput[i - 1] + tabOutput[i - 2]\n",
    "    \n",
    "    return tabOutput[n]\n",
    "\n",
    "print(fibTab(0))    # 0\n",
    "print(fibTab(1))    # 1\n",
    "print(fibTab(2))    # 1\n",
    "print(fibTab(3))    # 2\n",
    "print(fibTab(4))    # 3\n",
    "print(fibTab(5))    # 5\n",
    "print(fibTab(6))    # 8"
   ]
  },
  {
   "cell_type": "code",
   "execution_count": 22,
   "metadata": {},
   "outputs": [
    {
     "name": "stdout",
     "output_type": "stream",
     "text": [
      "28\n",
      "3\n",
      "6\n",
      "3\n",
      "2333606220\n"
     ]
    }
   ],
   "source": [
    "def gridTravelerTab(m, n):\n",
    "\n",
    "    if m == 0 or n == 0:\n",
    "        return 0\n",
    "\n",
    "    if m == 1 or n == 1:\n",
    "        return 1\n",
    "    \n",
    "    move = [ (0, 1), (1, 0) ]   # right, down\n",
    "\n",
    "    table = [ [ 0 for _ in range(n + 1) ] for _ in range(m + 1) ]\n",
    "    table[1][1] = 1\n",
    "\n",
    "    for row in range(1, m + 1):\n",
    "        for col in range(n + 1):\n",
    "            for dr, dc in move:\n",
    "                x, y = row + dr, col + dc\n",
    "                if x < m + 1 and y < n + 1:\n",
    "                    table[x][y] += table[row][col]\n",
    "\n",
    "    return table[m][n]\n",
    "            \n",
    "print(gridTravelerTab(3, 7))    # 28\n",
    "print(gridTravelerTab(3, 2))    # 3\n",
    "print(gridTravelerTab(3, 3))    # 6\n",
    "print(gridTravelerTab(2, 3))    # 3\n",
    "print(gridTravelerTab(18, 18))  # 2333606220"
   ]
  },
  {
   "cell_type": "code",
   "execution_count": 4,
   "metadata": {},
   "outputs": [
    {
     "name": "stdout",
     "output_type": "stream",
     "text": [
      "True\n",
      "False\n",
      "True\n",
      "False\n"
     ]
    }
   ],
   "source": [
    "def canSumTab(targetSum, numbers):\n",
    "\n",
    "    \"\"\"\n",
    "        M = target, N = numbers\n",
    "\n",
    "        TC : O(M * N) {iterate from 0 to target and inner loop iterate through the array}\n",
    "        SC : O(M) {table}\n",
    "    \"\"\"\n",
    "    \n",
    "    \n",
    "    if targetSum < 0:\n",
    "        return False\n",
    "    \n",
    "    table = [ False ] * (targetSum + 1) # Creating for tabulation 1D\n",
    "    table[0] = True # Base Case\n",
    "    \n",
    "    for x in range(targetSum + 1):  # Iterating from 0 to targetSum value\n",
    "        if table[x]:    # Checking whether it contains True value or not\n",
    "            for num in numbers: # Iterating through given numbers list\n",
    "                n = num + x # Trying sum combination from numbers for upper iteration value\n",
    "                if n <= targetSum:  # Restricting the value not to exceed the bound\n",
    "                    table[n] = True # Declaring combinations as True\n",
    "        \n",
    "    return table[targetSum]\n",
    "\n",
    "\n",
    "print(canSumTab(7, [5, 3, 4, 7]))  # True\n",
    "print(canSumTab(300, [7, 14]))     # False\n",
    "print(canSumTab(8, [2, 3, 5]))     # True\n",
    "print(canSumTab(7, [2, 4]))        # False"
   ]
  },
  {
   "cell_type": "code",
   "execution_count": 59,
   "metadata": {},
   "outputs": [
    {
     "name": "stdout",
     "output_type": "stream",
     "text": [
      "[4, 3]\n",
      "None\n",
      "[2, 2, 2, 2]\n",
      "None\n"
     ]
    }
   ],
   "source": [
    "def howSumTab(target, numbers):\n",
    "\n",
    "    \"\"\"\n",
    "        M = target, N = numbers\n",
    "\n",
    "        TC : O(M * N) * O(M){Coping array} = O(M^2 * N)\n",
    "        SC : O(M * M)\n",
    "    \"\"\"\n",
    "\n",
    "    table = [ None ] * (target + 1)\n",
    "    table[0] = []   # Base Case : Since for zero, no combination is required.\n",
    "\n",
    "    for reach in range(target + 1): # Iterating from 0 to targetSum value\n",
    "        if table[reach] is not None:    # Checking whether it contains None or not : here we need not None value\n",
    "            for num in numbers: # Iterating through given numbers list\n",
    "                x = reach + num # Trying sum combination from numbers for upper iteration value\n",
    "                if x <= target:  # Restricting the value not to exceed the bound\n",
    "                    table[x] = table[reach][:] + [num]  # Adding combined numbers into the list for the sum value x.\n",
    "    \n",
    "    return table[target]\n",
    "\n",
    "print(howSumTab(7, [5, 3, 4, 7])) \n",
    "print(howSumTab(300, [7, 14]))     \n",
    "print(howSumTab(8, [2, 3, 5]))     \n",
    "print(howSumTab(7, [2, 4]))    "
   ]
  },
  {
   "cell_type": "code",
   "execution_count": 67,
   "metadata": {},
   "outputs": [
    {
     "name": "stdout",
     "output_type": "stream",
     "text": [
      "[7]\n",
      "None\n",
      "[3, 5]\n",
      "[4, 4]\n",
      "[25, 25, 25, 25]\n"
     ]
    }
   ],
   "source": [
    "def bestSumTab(target, numbers):\n",
    "    \n",
    "    table = [ None ] * (target + 1)\n",
    "    table[0] = []    # Base Case : Since for zero, no combination is required.\n",
    "\n",
    "    for reach in range(target + 1): # Iterating from 0 to targetSum value\n",
    "        if table[reach] is not None:    # Checking whether it contains None or not : here we need not None value\n",
    "            for num in numbers: # Iterating through given numbers list\n",
    "                x = reach + num # Trying sum combination from numbers for upper iteration value\n",
    "                if x <= target: # Restricting the value not to exceed the bound\n",
    "                    result = table[reach][:] + [num]    # Adding combined numbers into the list as a result.\n",
    "                    if table[x] is None or len(table[x]) > len(result): # We need lesser lenght combination, so is the check\n",
    "                        table[x] = result   # saving the result for the combined sum value x.\n",
    "    \n",
    "    return table[target]\n",
    "\n",
    "print(bestSumTab(7, [5, 3, 4, 7]))     # [4, 3]\n",
    "print(bestSumTab(7, [2, 4]))           # None\n",
    "print(bestSumTab(8, [2, 3, 5]))        # [2, 2, 2, 2]\n",
    "print(bestSumTab(8, [2, 4, 5]))        # [2, 2, 2, 2]\n",
    "print(bestSumTab(100, [1, 2, 5, 25]))  # [25, 25, 25, 25]"
   ]
  },
  {
   "cell_type": "code",
   "execution_count": 9,
   "metadata": {},
   "outputs": [
    {
     "name": "stdout",
     "output_type": "stream",
     "text": [
      "[[7], [2, 2, 3], [2, 3, 2], [3, 2, 2]]\n",
      "[[7], [3, 4], [4, 3]]\n",
      "[]\n",
      "[[3, 5], [5, 3], [2, 3, 3], [3, 2, 3], [3, 3, 2], [2, 2, 2, 2]]\n",
      "[[4, 4], [2, 2, 4], [2, 4, 2], [4, 2, 2], [2, 2, 2, 2]]\n"
     ]
    }
   ],
   "source": [
    "def allSumTab(target, numbers):\n",
    "    \n",
    "    table = [ None ] * (target + 1)\n",
    "    table[0] = [ [] ]\n",
    "\n",
    "    # print(table)\n",
    "\n",
    "    for reach in range(target + 1):\n",
    "        if table[reach] is not None:\n",
    "            for num in numbers:\n",
    "                x = reach + num\n",
    "                if x <= target:\n",
    "                    result = list()\n",
    "                    for way in table[reach]:\n",
    "                        result.append(way[:] + [num])\n",
    "                    if table[x] is not None:\n",
    "                        table[x].extend(result)\n",
    "                    else: table[x] = result\n",
    "    \n",
    "    return table[target] if table[target] else []\n",
    "\n",
    "print(allSumTab(7, [2,3,6,7]))     # [4, 3]\n",
    "print(allSumTab(7, [5, 3, 4, 7]))     # [4, 3]\n",
    "print(allSumTab(7, [2, 4]))           # None\n",
    "print(allSumTab(8, [2, 3, 5]))        # [2, 2, 2, 2]\n",
    "print(allSumTab(8, [2, 4, 5]))        # [2, 2, 2, 2]"
   ]
  },
  {
   "cell_type": "code",
   "execution_count": null,
   "metadata": {},
   "outputs": [],
   "source": [
    "def canConstructTab()"
   ]
  },
  {
   "cell_type": "code",
   "execution_count": 25,
   "metadata": {},
   "outputs": [
    {
     "name": "stdout",
     "output_type": "stream",
     "text": [
      "0\n",
      "777\n",
      "1\n"
     ]
    }
   ],
   "source": [
    "def smallest_key(num1, num2, num3):\n",
    "    # Convert the numbers to strings and pad with leading zeros if necessary\n",
    "    str1 = str(num1).zfill(4)\n",
    "    str2 = str(num2).zfill(4)\n",
    "    str3 = str(num3).zfill(4)\n",
    "\n",
    "    key = \"\"\n",
    "    for i in range(4):\n",
    "        key += str(min(int(str1[i]), int(str2[i]), int(str3[i])))\n",
    "    key = str(int(key))\n",
    "    return int(key)\n",
    "\n",
    "print(smallest_key(1, 10, 1000))\n",
    "print(smallest_key(987, 879, 798))\n",
    "print(smallest_key(1, 2, 3))"
   ]
  },
  {
   "cell_type": "code",
   "execution_count": 27,
   "metadata": {},
   "outputs": [
    {
     "name": "stdout",
     "output_type": "stream",
     "text": [
      "bf\n",
      "i\n"
     ]
    }
   ],
   "source": [
    "def hash_string(s, k):\n",
    "    output = \"\"\n",
    "    n = len(s)\n",
    "\n",
    "    for i in range(0, n, k):\n",
    "        substring = s[i:i + k]\n",
    "        hash_sum = sum(ord(char) - ord('a') for char in substring)\n",
    "        hash_chars = hash_sum % 26\n",
    "        output += chr(hash_chars + ord('a'))\n",
    "\n",
    "    return output\n",
    "\n",
    "# Example usage\n",
    "print(hash_string(\"abcd\", 2))  # Output: \"bf\"\n",
    "print(hash_string(\"mxz\", 3))   # Output: \"i\""
   ]
  },
  {
   "cell_type": "code",
   "execution_count": 53,
   "metadata": {},
   "outputs": [
    {
     "name": "stdout",
     "output_type": "stream",
     "text": [
      "27\n",
      "2\n",
      "2468\n"
     ]
    }
   ],
   "source": [
    "def count_good_integers(n, k):\n",
    "    # from itertools import product\n",
    "    \n",
    "    # good_count = 0\n",
    "    \n",
    "    # # Generate all possible n-digit numbers with digits from 1 to 9 (no leading zeros)\n",
    "    # for digits in product(range(10), repeat=n):\n",
    "    #     if digits[0] == 0:  # Skip leading zero case\n",
    "    #         continue\n",
    "        \n",
    "    #     # Count frequency of each digit\n",
    "    #     freq = [0] * 10\n",
    "    #     for digit in digits:\n",
    "    #         freq[digit] += 1\n",
    "\n",
    "    #     # Check how many odd counts we have\n",
    "    #     odd_count = sum(1 for count in freq if count % 2 == 1)\n",
    "\n",
    "    #     # For n-digit numbers:\n",
    "    #     # If n is even, odd_count must be 0\n",
    "    #     # If n is odd, odd_count must be 1\n",
    "    #     if (n % 2 == 0 and odd_count == 0) or (n % 2 == 1 and odd_count == 1):\n",
    "    #         # Form the palindrome\n",
    "    #         half_palindrome = []\n",
    "    #         middle_digit = None\n",
    "            \n",
    "    #         for digit in range(10):\n",
    "    #             if freq[digit] > 0:\n",
    "    #                 half_palindrome.append(str(digit) * (freq[digit] // 2))\n",
    "    #                 if freq[digit] % 2 == 1:\n",
    "    #                     middle_digit = str(digit)\n",
    "\n",
    "    #         # Create the full palindrome\n",
    "    #         if n % 2 == 0:\n",
    "    #             full_palindrome = ''.join(half_palindrome) + ''.join(reversed(half_palindrome))\n",
    "    #         else:\n",
    "    #             full_palindrome = ''.join(half_palindrome) + middle_digit + ''.join(reversed(half_palindrome))\n",
    "\n",
    "    #         # Convert to integer and check divisibility\n",
    "    #         if int(full_palindrome) % k == 0:\n",
    "    #             good_count += 1\n",
    "\n",
    "    # return good_count\n",
    "\n",
    "    from collections import Counter\n",
    "    from math import comb\n",
    "\n",
    "    s=set()\n",
    "    o=0\n",
    "    for i in range(10**((n+1)//2)):\n",
    "        si=str(i).zfill((n+1)//2)\n",
    "        if si[-1]==\"0\":continue\n",
    "        num=si[::-1][:-1 if n%2 else None]+si\n",
    "        cand=tuple(sorted(Counter(num).items()))\n",
    "        if cand not in s and int(num)%k==0:\n",
    "            #print(num)\n",
    "            s.add(cand)\n",
    "            inc=1\n",
    "            nn=n\n",
    "            for v,e in cand:\n",
    "                if v==\"0\":\n",
    "                    inc*=comb(nn-1,e)\n",
    "                else:\n",
    "                    inc*=comb(nn,e)\n",
    "                nn-=e\n",
    "            \n",
    "            o+=inc\n",
    "    return o\n",
    "\n",
    "\n",
    "    # factor = [1,1]\n",
    "    # for _ in range(10):\n",
    "        # factor.append(factor[-1]*len(factor))\n",
    "    #   \n",
    "    # if n==1:\n",
    "        # return 9//k\n",
    "        #  \n",
    "    # d = n // 2\n",
    "    # front = pow(10,d-1)\n",
    "    # rear = pow(10,d)\n",
    "    # candidate = []\n",
    "# \n",
    "    # for i in range(front,rear):\n",
    "        # if n%2==1:\n",
    "            # for d in range(10):\n",
    "                # num = str(i) + str(d) + str(i)[::-1]\n",
    "                # if int(num)%k==0:\n",
    "                    # candidate.append(num)\n",
    "                # \n",
    "        # else:\n",
    "            # num = str(i) + str(i)[::-1]\n",
    "            # if int(num)%k==0:\n",
    "                # candidate.append(num)                \n",
    "    # def countnum(fre):\n",
    "        # m = sum(fre)\n",
    "        # tot = factor[m]\n",
    "        # for num in fre:\n",
    "            # if num > 1:\n",
    "                # tot = tot // factor[num]\n",
    "                # \n",
    "        # return tot\n",
    "                # \n",
    "    # ans = 0\n",
    "    # visited = set()\n",
    "    # for s in candidate:\n",
    "        # fre = [0]*10\n",
    "        # for c in s:\n",
    "            # fre[int(c)] += 1\n",
    "            # \n",
    "        # if tuple(fre) in visited:\n",
    "            # continue \n",
    "            # \n",
    "        # visited.add(tuple(fre))\n",
    "        # ans += countnum(fre)\n",
    "        # \n",
    "        # if fre[0] > 0:\n",
    "            # fre[0] -= 1\n",
    "            # ans -= countnum(fre)\n",
    "    # return ans\n",
    "\n",
    "# Example usage\n",
    "print(count_good_integers(3, 5))  # Expected Output: 27\n",
    "print(count_good_integers(1, 4))  # Expected Output: 2\n",
    "print(count_good_integers(5, 6))  # Expected Output: 2468"
   ]
  },
  {
   "cell_type": "code",
   "execution_count": 5,
   "metadata": {},
   "outputs": [
    {
     "name": "stdout",
     "output_type": "stream",
     "text": [
      "39\n",
      "20\n",
      "320\n"
     ]
    }
   ],
   "source": [
    "def minimum_damage(power, damage, health):\n",
    "    # n = len(damage)\n",
    "    # total_damage = 0\n",
    "    \n",
    "    # # Create a list of enemies with their damage and health\n",
    "    # enemies = [(dmg, hp) for dmg, hp in zip(damage, health)]\n",
    "    \n",
    "    # # Sort enemies by their damage-to-health ratio in descending order\n",
    "    # enemies.sort(reverse=True, key=lambda x: x[0] / x[1])\n",
    "    \n",
    "    # for dmg, hp in enemies:\n",
    "    #     # Calculate how many seconds it takes to kill this enemy\n",
    "    #     time_to_kill = (hp + power - 1) // power  # Ceiling of hp / power\n",
    "        \n",
    "    #     # Calculate damage taken while this enemy is alive\n",
    "    #     total_damage += dmg * time_to_kill\n",
    "        \n",
    "    #     # Subtract the damage dealt by this enemy\n",
    "    #     total_damage -= dmg * (time_to_kill - 1)\n",
    "    \n",
    "    # return total_damage\n",
    "\n",
    "    # n = len(damage)\n",
    "    # enemies = []\n",
    "    # for i in range(n):\n",
    "    #     ttk = (health[i] + power - 1) // power\n",
    "    #     enemies.append((damage[i] / ttk, damage[i], ttk, i))\n",
    "\n",
    "    # enemies.sort(reverse=True, key=lambda x: x[0])\n",
    "\n",
    "    # total_damage = sum(damage)\n",
    "    # total_damage_received = 0\n",
    "    # current_damage = total_damage\n",
    "\n",
    "    # for _, dmg, ttk, idx in enemies:\n",
    "    #     total_damage_received += current_damage * ttk\n",
    "    #     current_damage -= dmg\n",
    "\n",
    "    # return total_damage_received\n",
    "\n",
    "    n = len(damage)\n",
    "    \n",
    "    # Calculate time to kill and prepare the enemies list\n",
    "    enemies = [(\n",
    "        dmg / ((hp + power - 1) // power), \n",
    "        dmg, \n",
    "        (hp + power - 1) // power, i) for i, (dmg, hp) in enumerate(zip(damage, health)\n",
    "        )]\n",
    "    \n",
    "    # Sort enemies by their damage per second in descending order\n",
    "    enemies.sort(reverse=True, key=lambda x: x[0])\n",
    "    \n",
    "    total_damage = sum(damage)  # Total damage dealt by all enemies\n",
    "    total_damage_received = 0\n",
    "    \n",
    "    for damage_per_second, dmg, ttk, _ in enemies:\n",
    "        total_damage_received += total_damage * ttk  # Damage received while attacking this enemy\n",
    "        total_damage -= dmg  # Reduce total damage by the defeated enemy's damage\n",
    "    \n",
    "    return total_damage_received\n",
    "\n",
    "# Test cases\n",
    "print(minimum_damage(4, [1, 2, 3, 4], [4, 5, 6, 8]))  # Expected Output: 39\n",
    "print(minimum_damage(1, [1, 1, 1, 1], [1, 2, 3, 4]))  # Expected Output: 20\n",
    "print(minimum_damage(8, [40], [59]))  # Expected Output: 320"
   ]
  },
  {
   "cell_type": "code",
   "execution_count": 10,
   "metadata": {},
   "outputs": [
    {
     "name": "stdout",
     "output_type": "stream",
     "text": [
      "[[4, 7], [3, 6], [8, 9]]\n",
      "[[3, 6], [4, 7], [8, 9]]\n"
     ]
    }
   ],
   "source": [
    "bny = [ \n",
    "    [4,7],\n",
    "    [3,6],\n",
    "    [8,9]\n",
    "]\n",
    "\n",
    "print(bny)\n",
    "\n",
    "bny.sort(key = lambda x: x[1])\n",
    "\n",
    "print(bny)"
   ]
  },
  {
   "cell_type": "code",
   "execution_count": 25,
   "metadata": {},
   "outputs": [
    {
     "name": "stdout",
     "output_type": "stream",
     "text": [
      "{'m': 10, 'a': 20, 'w': 500, 'j': 250}\n",
      "{'m': 10, 'a': 20, 'w': 500, 'j': 250}\n"
     ]
    }
   ],
   "source": [
    "def distribute_payments(amount, account_with_capacity):\n",
    "\n",
    "    account_after_distribution = {account: 0 for account in account_with_capacity}\n",
    "\n",
    "    account_keys = sorted(account_with_capacity.keys(), reverse=True)\n",
    "\n",
    "    def cap(acc_key):\n",
    "        value = account_with_capacity[acc_key] - account_after_distribution[acc_key]\n",
    "        return value if value > 0 else 0\n",
    "    \n",
    "    while amount > 0 and account_keys:\n",
    "        disburse = amount // len(account_keys) or amount % len(account_keys)\n",
    "\n",
    "        for key in account_keys[::-1]:\n",
    "            if amount < 1:\n",
    "                break\n",
    "            left_cap = cap(key)\n",
    "            txn = min(left_cap, disburse)\n",
    "            amount -= txn\n",
    "            account_after_distribution[key] += txn\n",
    "            if cap(key) < 1: account_keys.pop()\n",
    "\n",
    "    return account_after_distribution\n",
    "\n",
    "# Example usage\n",
    "amount1 = 1000\n",
    "account_with_capacity1 = {'m': 10, 'a': 20, 'w': 500, 'j': 1337}\n",
    "result1 = distribute_payments(amount1, account_with_capacity1)\n",
    "print(result1)  # Output: {'m': 10, 'a': 20, 'j': 485, 'w': 485}\n",
    "\n",
    "amount2 = 1001\n",
    "account_with_capacity2 = {'m': 10, 'a': 20, 'w': 500, 'j': 1337}\n",
    "result2 = distribute_payments(amount2, account_with_capacity2)\n",
    "print(result2)  # Output: {'m': 10, 'a': 20, 'j': 486, 'w': 485}"
   ]
  },
  {
   "cell_type": "code",
   "execution_count": 39,
   "metadata": {},
   "outputs": [
    {
     "name": "stdout",
     "output_type": "stream",
     "text": [
      "{'m': 10, 'a': 20, 'w': 485, 'j': 485}\n",
      "{'m': 10, 'a': 20, 'w': 485, 'j': 486}\n",
      "{'m': 3, 'a': 3, 'w': 1, 'j': 3}\n"
     ]
    }
   ],
   "source": [
    "def distribute_payment(amount, account_with_capacity):\n",
    "    # Sort accounts alphabetically\n",
    "    # print(account_with_capacity)\n",
    "    sorted_accounts = sorted(account_with_capacity.items())\n",
    "    # print(sorted_accounts)\n",
    "    \n",
    "    # Initialize the dictionary to store the distribution result\n",
    "    account_after_distribution = {account: 0 for account, _ in account_with_capacity.items()}\n",
    "    # print(account_after_distribution)\n",
    "    \n",
    "    # Calculate the total number of accounts\n",
    "    num_accounts = len(sorted_accounts)\n",
    "    \n",
    "    while amount > 0:\n",
    "        equal_share = amount // num_accounts\n",
    "        # remaining = amount % num_accounts\n",
    "        \n",
    "        # distributed = False\n",
    "        \n",
    "        for account, capacity in sorted_accounts:\n",
    "            if account_after_distribution[account] + equal_share <= capacity:\n",
    "                account_after_distribution[account] += equal_share\n",
    "                amount -= equal_share\n",
    "            else:\n",
    "                difference = capacity - account_after_distribution[account]\n",
    "                account_after_distribution[account] += difference\n",
    "                amount -= difference\n",
    "\n",
    "        # Distribute the remaining amount in alphabetical order\n",
    "        for account, capacity in sorted_accounts:\n",
    "            if amount <= 0:\n",
    "                break\n",
    "            if account_after_distribution[account] < capacity:\n",
    "                account_after_distribution[account] += 1\n",
    "                amount -= 1\n",
    "\n",
    "    return account_after_distribution\n",
    "\n",
    "# Test Cases\n",
    "amount1 = 1000\n",
    "account_with_capacity1 = {'m': 10, 'a': 20, 'w': 500, 'j': 1337}\n",
    "result1 = distribute_payment(amount1, account_with_capacity1)   # {'m': 10, 'a': 20, 'j': 485, 'w': 485}\n",
    "print(result1)\n",
    "\n",
    "amount2 = 1001\n",
    "account_with_capacity2 = {'m': 10, 'a': 20, 'w': 500, 'j': 1337}\n",
    "result2 = distribute_payment(amount2, account_with_capacity2)   # {'m': 10, 'a': 20, 'j': 486, 'w': 485}\n",
    "print(result2)\n",
    "\n",
    "amount3 = 10\n",
    "account_with_capacity3 = {'m': 50, 'a': 50, 'w': 1, 'j': 50}\n",
    "result3 = distribute_payment(amount3, account_with_capacity3)   # {'m': 3, 'a': 3, 'w': 1, 'j': 3}\n",
    "print(result3)\n"
   ]
  },
  {
   "cell_type": "code",
   "execution_count": 27,
   "metadata": {},
   "outputs": [
    {
     "data": {
      "text/plain": [
       "({'a': 20, 'j': 648, 'm': 10, 'w': 322},\n",
       " {'a': 20, 'j': 649, 'm': 10, 'w': 322},\n",
       " {'a': 3, 'j': 3, 'm': 3, 'w': 1})"
      ]
     },
     "execution_count": 27,
     "metadata": {},
     "output_type": "execute_result"
    }
   ],
   "source": [
    "def distribute_payment_opt(amount, account_with_capacity):\n",
    "    # Sort accounts alphabetically\n",
    "    sorted_accounts = sorted(account_with_capacity.items())\n",
    "    \n",
    "    # Initialize the dictionary to store the distribution result\n",
    "    account_after_distribution = {account: 0 for account, _ in sorted_accounts}\n",
    "    \n",
    "    while amount > 0:\n",
    "        num_accounts = len(sorted_accounts)\n",
    "        if num_accounts == 0:\n",
    "            break\n",
    "        \n",
    "        equal_share = amount // num_accounts\n",
    "        \n",
    "        # Distribute equal shares\n",
    "        for i, (account, capacity) in enumerate(sorted_accounts):\n",
    "            to_distribute = min(equal_share, capacity - account_after_distribution[account])\n",
    "            account_after_distribution[account] += to_distribute\n",
    "            amount -= to_distribute\n",
    "            \n",
    "            # If an account is filled, remove it from further distribution\n",
    "            if account_after_distribution[account] == capacity:\n",
    "                sorted_accounts.pop(i)\n",
    "                break\n",
    "    \n",
    "    # Distribute any remaining amount (remainder)\n",
    "    for account, capacity in sorted_accounts:\n",
    "        if amount <= 0:\n",
    "            break\n",
    "        if account_after_distribution[account] < capacity:\n",
    "            account_after_distribution[account] += 1\n",
    "            amount -= 1\n",
    "\n",
    "    return account_after_distribution\n",
    "\n",
    "# Test Cases\n",
    "amount1 = 1000\n",
    "account_with_capacity1 = {'m': 10, 'a': 20, 'w': 500, 'j': 1337}\n",
    "result1 = distribute_payment_opt(amount1, account_with_capacity1)\n",
    "\n",
    "amount2 = 1001\n",
    "account_with_capacity2 = {'m': 10, 'a': 20, 'w': 500, 'j': 1337}\n",
    "result2 = distribute_payment_opt(amount2, account_with_capacity2)\n",
    "\n",
    "amount3 = 10\n",
    "account_with_capacity3 = {'m': 50, 'a': 50, 'w': 1, 'j': 50}\n",
    "result3 = distribute_payment_opt(amount3, account_with_capacity3)\n",
    "\n",
    "\n",
    "# amount3 = 10\n",
    "# account_with_capacity3 = {'m': 50, 'a': 50, 'w': 1, 'j': 50}\n",
    "# result3 = distribute_payment_opt(amount3, account_with_capacity3)\n",
    "\n",
    "result1, result2, result3\n"
   ]
  }
 ],
 "metadata": {
  "kernelspec": {
   "display_name": ".venv",
   "language": "python",
   "name": "python3"
  },
  "language_info": {
   "codemirror_mode": {
    "name": "ipython",
    "version": 3
   },
   "file_extension": ".py",
   "mimetype": "text/x-python",
   "name": "python",
   "nbconvert_exporter": "python",
   "pygments_lexer": "ipython3",
   "version": "3.12.1"
  }
 },
 "nbformat": 4,
 "nbformat_minor": 2
}
