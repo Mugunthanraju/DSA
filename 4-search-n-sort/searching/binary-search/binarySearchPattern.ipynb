{
 "cells": [
  {
   "cell_type": "markdown",
   "metadata": {},
   "source": [
    "### Binary Search Pattern Problems"
   ]
  },
  {
   "cell_type": "code",
   "execution_count": 1,
   "metadata": {},
   "outputs": [
    {
     "name": "stdout",
     "output_type": "stream",
     "text": [
      "Answer: 4\n",
      "Answer: -1\n"
     ]
    }
   ],
   "source": [
    "# LC : 704. Binary Search (https://leetcode.com/problems/binary-search/description/)\n",
    "\n",
    "def search(nums, target):\n",
    "\n",
    "    left, right = 0, len(nums) - 1\n",
    "\n",
    "    while left < right:\n",
    "        mid = (left + right) >> 1\n",
    "        if nums[mid] == target:\n",
    "            return mid\n",
    "        \n",
    "        if nums[mid] > target:\n",
    "            right = mid - 1\n",
    "        else:\n",
    "            left = mid + 1\n",
    "    \n",
    "    return -1\n",
    "\n",
    "print(\"Answer:\", search([-1,0,3,5,9,12], 9))    # 4\n",
    "print(\"Answer:\", search([-1,0,3,5,9,12], 2))    # -1"
   ]
  },
  {
   "cell_type": "code",
   "execution_count": 2,
   "metadata": {},
   "outputs": [
    {
     "name": "stdout",
     "output_type": "stream",
     "text": [
      "Answer: True\n",
      "Answer: False\n"
     ]
    }
   ],
   "source": [
    "# LC : 74. Search a 2D Matrix (https://leetcode.com/problems/search-a-2d-matrix/)\n",
    "\n",
    "def searchMatrix(matrix, target):\n",
    "    row = len(matrix)\n",
    "    col = len(matrix[0])\n",
    "\n",
    "    left, right = 0, row*col - 1\n",
    "\n",
    "    while left < right:\n",
    "        mid = (left + right) >> 1\n",
    "        if matrix[mid // col][mid % col] >= target:\n",
    "            right = mid\n",
    "        else:\n",
    "            left = mid + 1\n",
    "    return matrix[right // col][right % col] == target\n",
    "\n",
    "print(\"Answer:\", searchMatrix([[1,3,5,7],[10,11,16,20],[23,30,34,60]], 3))\n",
    "print(\"Answer:\", searchMatrix([[1,3,5,7],[10,11,16,20],[23,30,34,60]], 13))"
   ]
  },
  {
   "cell_type": "code",
   "execution_count": 3,
   "metadata": {},
   "outputs": [
    {
     "name": "stdout",
     "output_type": "stream",
     "text": [
      "Answer: 4\n",
      "Answer: -1\n",
      "Answer: -1\n",
      "Answer: -1\n"
     ]
    }
   ],
   "source": [
    "# LC : 33. Search in Rotated Sorted Array (https://leetcode.com/problems/search-in-rotated-sorted-array/description/)\n",
    "\n",
    "def rotatedSortedSearch(nums, target):\n",
    "\n",
    "    def condition(index):\n",
    "        if nums[left] <= nums[index]:\n",
    "            if nums[index] > target and target >= nums[left]:\n",
    "                return True\n",
    "        else:\n",
    "            if nums[index] > target and target > nums[right]:\n",
    "                return True\n",
    "        return False\n",
    "\n",
    "\n",
    "    left, right = 0, len(nums) - 1\n",
    "    while left <= right:\n",
    "        mid = (left + right) >> 1\n",
    "        if nums[mid] == target:\n",
    "            return mid\n",
    "        \n",
    "        if condition(mid):\n",
    "            right = mid - 1\n",
    "        else:\n",
    "            left = mid + 1\n",
    "    return -1\n",
    "\n",
    "print(\"Answer:\", rotatedSortedSearch([4,5,6,7,0,1,2], 0))   # 4\n",
    "print(\"Answer:\", rotatedSortedSearch([4,5,6,7,0,1,2], 3))   # -1\n",
    "print(\"Answer:\", rotatedSortedSearch([1], 0))               # -1\n",
    "print(\"Answer:\", rotatedSortedSearch([5,1,3], 0))           # -1"
   ]
  },
  {
   "cell_type": "code",
   "execution_count": 4,
   "metadata": {},
   "outputs": [
    {
     "name": "stdout",
     "output_type": "stream",
     "text": [
      "Answer: 1\n",
      "Answer: 0\n",
      "Answer: 11\n"
     ]
    }
   ],
   "source": [
    "# LC : 153. Find Minimum in Rotated Sorted Array (https://leetcode.com/problems/find-minimum-in-rotated-sorted-array/description/)\n",
    "\n",
    "def findMin(nums) -> int:\n",
    "\n",
    "    left, right = 0, len(nums) - 1\n",
    "\n",
    "    while left < right:\n",
    "        mid = (left + right) >> 1\n",
    "        if nums[mid] > nums[right]:\n",
    "            left = mid + 1\n",
    "        else:\n",
    "            right = mid\n",
    "    \n",
    "    return nums[right]\n",
    "\n",
    "print(\"Answer:\", findMin([3,4,5,1,2]))      # 1\n",
    "print(\"Answer:\", findMin([4,5,6,7,0,1,2]))  # 0\n",
    "print(\"Answer:\", findMin([11,13,15,17]))    # 11"
   ]
  },
  {
   "cell_type": "code",
   "execution_count": 5,
   "metadata": {},
   "outputs": [
    {
     "name": "stdout",
     "output_type": "stream",
     "text": [
      "Answer: 4\n"
     ]
    }
   ],
   "source": [
    "# LC : 278. First Bad Version (https://leetcode.com/problems/first-bad-version/description/)\n",
    "\n",
    "def firstBadVersion(n=None) -> int:\n",
    "    n = 5\n",
    "    left = 0\n",
    "    right = n\n",
    "\n",
    "    def isBadVersion(num):\n",
    "        # HardCoded method to mimic the leetcode provided method\n",
    "        return num >= 4\n",
    "\n",
    "    while left < right:\n",
    "        mid = left + (right - left) // 2\n",
    "        if isBadVersion(mid):\n",
    "            right = mid\n",
    "        else:\n",
    "            left = mid + 1\n",
    "    return left\n",
    "\n",
    "print(\"Answer:\", firstBadVersion()) # 4"
   ]
  },
  {
   "cell_type": "code",
   "execution_count": 6,
   "metadata": {},
   "outputs": [
    {
     "name": "stdout",
     "output_type": "stream",
     "text": [
      "Answer: 2\n",
      "Answer: 2\n",
      "Answer: 3\n"
     ]
    }
   ],
   "source": [
    "# LC : 69. Sqrt(x) (https://leetcode.com/problems/sqrtx/description/)\n",
    "\n",
    "def mySqrt(x: int) -> int:\n",
    "    left = 0\n",
    "    right = x + 1\n",
    "\n",
    "    while left < right:\n",
    "        mid = left + (right - left) // 2\n",
    "        if mid * mid > x:\n",
    "            right = mid\n",
    "        else:\n",
    "            left = mid + 1\n",
    "    \n",
    "    return left - 1\n",
    "\n",
    "print(\"Answer:\", mySqrt(4))    # 2\n",
    "print(\"Answer:\", mySqrt(8))    # 2\n",
    "print(\"Answer:\", mySqrt(9))    # 3"
   ]
  },
  {
   "cell_type": "code",
   "execution_count": 7,
   "metadata": {},
   "outputs": [
    {
     "name": "stdout",
     "output_type": "stream",
     "text": [
      "Answer: 2\n",
      "Answer: 1\n",
      "Answer: 4\n"
     ]
    }
   ],
   "source": [
    "# LC : 35. Search Insert Position (https://leetcode.com/problems/search-insert-position/description/)\n",
    "\n",
    "def searchInsert(nums, target):\n",
    "    \n",
    "    # import bisect\n",
    "    # return bisect.bisect_left(nums, target)\n",
    "\n",
    "    left, right = 0, len(nums)\n",
    "\n",
    "    while left < right:\n",
    "        # mid = left + (right - left) // 2\n",
    "        mid = (right + left) >> 1\n",
    "\n",
    "        if nums[mid] >= target:\n",
    "            right = mid\n",
    "        else:\n",
    "            left = mid + 1\n",
    "    \n",
    "    return left\n",
    "\n",
    "print(\"Answer:\", searchInsert([1,3,5,6], 5))   # 2\n",
    "print(\"Answer:\", searchInsert([1,3,5,6], 2))   # 1\n",
    "print(\"Answer:\", searchInsert([1,3,5,6], 7))   # 4"
   ]
  },
  {
   "cell_type": "code",
   "execution_count": 8,
   "metadata": {},
   "outputs": [
    {
     "name": "stdout",
     "output_type": "stream",
     "text": [
      "Answer: 15\n",
      "Answer: 6\n",
      "Answer: 3\n"
     ]
    }
   ],
   "source": [
    "# LC : 1011. Capacity To Ship Packages Within D Days (https://leetcode.com/problems/capacity-to-ship-packages-within-d-days/description/)\n",
    "\n",
    "def shipWithinDays(weights, days) -> int:\n",
    "    \n",
    "    def feasible(cap):\n",
    "        weight, day = 0, 1\n",
    "        for w in weights:\n",
    "            weight += w\n",
    "            if weight > cap:\n",
    "                weight = w\n",
    "                day += 1\n",
    "        # print(f\"Capacity-{cap}, TotalWeight-{weight}, TotalDay-{day}, Deadline-{days}\")\n",
    "        return False if day > days else True\n",
    "\n",
    "    \n",
    "    left, right = max(weights), sum(weights)\n",
    "\n",
    "    while left < right:\n",
    "        mid = (left + right) >> 1\n",
    "        # print(f\"Low-{left} Mid-{mid} High-{right}\")\n",
    "        if feasible(mid):\n",
    "            right = mid\n",
    "        else:\n",
    "            left = mid + 1\n",
    "    \n",
    "    return left\n",
    "\n",
    "print(\"Answer:\", shipWithinDays([1,2,3,4,5,6,7,8,9,10], 5))    # 15\n",
    "print(\"Answer:\", shipWithinDays([3,2,2,4,1,4], 3))             # 6\n",
    "print(\"Answer:\", shipWithinDays([1,2,3,1,1], 4))               # 3"
   ]
  },
  {
   "cell_type": "code",
   "execution_count": 9,
   "metadata": {},
   "outputs": [
    {
     "name": "stdout",
     "output_type": "stream",
     "text": [
      "Answer: 18\n",
      "Answer: 9\n"
     ]
    }
   ],
   "source": [
    "# LC : 410. Split Array Largest Sum (https://leetcode.com/problems/split-array-largest-sum/description/)\n",
    "\n",
    "def splitArray(nums, k):\n",
    "    \n",
    "    def feasible(threshold):\n",
    "        total, count  = 0, 1\n",
    "        for num in nums:\n",
    "            total += num\n",
    "            if total > threshold:\n",
    "                total = num\n",
    "                count += 1\n",
    "        return False if count > k else True\n",
    "\n",
    "    left, right = max(nums), sum(nums)\n",
    "    while left < right:\n",
    "        mid = (left + right) >> 1\n",
    "        if feasible(mid):\n",
    "            right = mid\n",
    "        else:\n",
    "            left = mid + 1\n",
    "    \n",
    "    return left\n",
    "\n",
    "print(\"Answer:\", splitArray([7,2,5,10,8], 2))   # 18\n",
    "print(\"Answer:\", splitArray([1,2,3,4,5], 2))    # 9"
   ]
  },
  {
   "cell_type": "code",
   "execution_count": 10,
   "metadata": {},
   "outputs": [
    {
     "name": "stdout",
     "output_type": "stream",
     "text": [
      "Answer: 4\n",
      "Answer: 30\n",
      "Answer: 23\n"
     ]
    }
   ],
   "source": [
    "# LC : 875. Koko Eating Bananas (https://leetcode.com/problems/koko-eating-bananas/description/)  \n",
    "\n",
    "def minEatingSpeed(piles, hour) -> int:\n",
    "\n",
    "    def feasible(speed):\n",
    "        total_banana = list()\n",
    "        for pile_banana in piles:\n",
    "            total_banana.append((pile_banana - 1) // speed + 1)\n",
    "        return sum(total_banana) <= hour\n",
    "\n",
    "    \n",
    "    left, right = 1, max(piles)\n",
    "    while left < right:\n",
    "        mid = (left + right) >> 1\n",
    "        if feasible(mid):\n",
    "            right = mid\n",
    "        else:\n",
    "            left = mid + 1\n",
    "    \n",
    "    return left\n",
    "\n",
    "print(\"Answer:\", minEatingSpeed([3,6,7,11], 8))         # 4\n",
    "print(\"Answer:\", minEatingSpeed([30,11,23,4,20], 5))    # 30\n",
    "print(\"Answer:\", minEatingSpeed([30,11,23,4,20], 6))    # 23"
   ]
  },
  {
   "cell_type": "code",
   "execution_count": 11,
   "metadata": {},
   "outputs": [
    {
     "name": "stdout",
     "output_type": "stream",
     "text": [
      "Answer: 3\n",
      "Answer: -1\n",
      "Answer: 12\n"
     ]
    }
   ],
   "source": [
    "# LC : 1482. Minimum Number of Days to Make m Bouquets (https://leetcode.com/problems/minimum-number-of-days-to-make-m-bouquets/description/)\n",
    "\n",
    "def minDays(bloomDay, m, k):\n",
    "\n",
    "    def feasible(days):\n",
    "        bounquet, flowers = 0, 0\n",
    "        for bloom in bloomDay:\n",
    "            if bloom > days:\n",
    "                flowers = 0\n",
    "            else:\n",
    "                # print(f\"Bounquet-{bounquet}, Flowers-{flowers}, (flowers+1)//k={(flowers + 1) // k}, (flowers+1)%k={(flowers + 1) % k}\")\n",
    "                bounquet += (flowers + 1) // k\n",
    "                flowers = (flowers + 1) % k\n",
    "        # print(f\"Bounquet-{bounquet} >= m-{m}\")\n",
    "        return bounquet >= m\n",
    "\n",
    "    \n",
    "    if len(bloomDay) < m * k:\n",
    "        return -1\n",
    "    \n",
    "    left, right = 1, max(bloomDay)\n",
    "    # print(f\"left-{left}, right-{right}\")\n",
    "    while left < right:\n",
    "        mid = (left + right) >> 1\n",
    "        if feasible(mid):\n",
    "            right = mid\n",
    "        else:\n",
    "            left = mid + 1\n",
    "        # print(f\"left-{left}, mid-{mid}, right-{right}\")\n",
    "    return left\n",
    "\n",
    "print(\"Answer:\", minDays([1,10,3,10,2], 3, 1))      # 3\n",
    "print(\"Answer:\", minDays([1,10,3,10,2], 3, 2))      # -1\n",
    "print(\"Answer:\", minDays([7,7,7,7,12,7,7], 2, 3))   # 12"
   ]
  },
  {
   "cell_type": "code",
   "execution_count": 12,
   "metadata": {},
   "outputs": [
    {
     "name": "stdout",
     "output_type": "stream",
     "text": [
      "Answer: 3\n",
      "Answer: 6\n"
     ]
    }
   ],
   "source": [
    "# LC : 668. Kth Smallest Number in Multiplication Table (https://leetcode.com/problems/kth-smallest-number-in-multiplication-table/description/)\n",
    "\n",
    "def findKthNumber(m: int, n: int, k: int) -> int:\n",
    "    \n",
    "    def enough(num):\n",
    "        count = 0\n",
    "        for value in range(1, m + 1):\n",
    "            add = min(num // value, n)\n",
    "            if add == 0:\n",
    "                break\n",
    "            count += add\n",
    "        return count >= k\n",
    "    \n",
    "    left, right = 1, m * n\n",
    "    while left < right:\n",
    "        mid = (left + right) >> 1\n",
    "        if enough(mid):\n",
    "            right = mid\n",
    "        else:\n",
    "            left = mid + 1\n",
    "    return left\n",
    "\n",
    "print(\"Answer:\", findKthNumber(3, 3, 5))    # 3\n",
    "print(\"Answer:\", findKthNumber(2, 3, 6))    # 6"
   ]
  },
  {
   "cell_type": "code",
   "execution_count": 13,
   "metadata": {},
   "outputs": [
    {
     "name": "stdout",
     "output_type": "stream",
     "text": [
      "Answer: 0\n",
      "Answer: 0\n",
      "Answer: 5\n",
      "Answer: 2\n"
     ]
    }
   ],
   "source": [
    "# LC : 719. Find K-th Smallest Pair Distance (https://leetcode.com/problems/find-k-th-smallest-pair-distance/description/)\n",
    "\n",
    "def smallestDistancePair(nums, k):\n",
    "    nums.sort()\n",
    "    n = len(nums)\n",
    "\n",
    "    def enough(distance) -> bool:  # two pointers\n",
    "        count, i, j = 0, 0, 0\n",
    "        while i < n or j < n:\n",
    "            while j < n and nums[j] - nums[i] <= distance:  # move fast pointer\n",
    "                j += 1\n",
    "            count += j - i - 1  # count pairs\n",
    "            i += 1  # move slow pointer\n",
    "        return count >= k\n",
    "\n",
    "    left, right = 0, nums[-1] - nums[0]\n",
    "    while left < right:\n",
    "        mid = (left + right) >> 1\n",
    "        if enough(mid):\n",
    "            right = mid\n",
    "        else:\n",
    "            left = mid + 1\n",
    "    return left\n",
    "\n",
    "print(\"Answer:\", smallestDistancePair([1,3,1], 1))                  # 0\n",
    "print(\"Answer:\", smallestDistancePair([1,1,1], 2))                  # 0\n",
    "print(\"Answer:\", smallestDistancePair([1,6,1], 3))                  # 5\n",
    "print(\"Answer:\", smallestDistancePair([9,10,7,10,6,1,5,4,9,8], 18)) # 2"
   ]
  },
  {
   "cell_type": "code",
   "execution_count": 14,
   "metadata": {},
   "outputs": [
    {
     "name": "stdout",
     "output_type": "stream",
     "text": [
      "Answer: 4\n",
      "Answer: 6\n",
      "Answer: 10\n"
     ]
    }
   ],
   "source": [
    "# LC : 1201. Ugly Number III (https://leetcode.com/problems/ugly-number-iii/description/)\n",
    "\n",
    "def nthUglyNumber(n: int, a: int, b: int, c: int) -> int:\n",
    "    \"\"\"\n",
    "    An ugly number is a positive integer that is divisible by a, b, or c. Return nth number.\n",
    "    \"\"\"\n",
    "    \n",
    "    import math\n",
    "\n",
    "    def enough(mid) -> bool:\n",
    "        # F(N) = N/a + N/b + N/c - N/lcm(a, c) - N/lcm(a, b) - N/lcm(b, c) + N/lcm(a, b, c)\n",
    "        total = mid//a + mid//b + mid//c - mid//ab - mid//ac - mid//bc + mid//abc\n",
    "        return total >= n\n",
    "\n",
    "    ab = a * b // math.gcd(a, b)\n",
    "    ac = a * c // math.gcd(a, c)\n",
    "    bc = b * c // math.gcd(b, c)\n",
    "    abc = a * bc // math.gcd(a, bc)\n",
    "\n",
    "    left, right = 1, 10 ** 10\n",
    "\n",
    "    while left < right:\n",
    "        mid = (left + right) >> 1\n",
    "        if enough(mid):\n",
    "            right = mid\n",
    "        else:\n",
    "            left = mid + 1\n",
    "        \n",
    "    return left\n",
    "\n",
    "print(\"Answer:\", nthUglyNumber(3, 2, 3, 5))     # 4\n",
    "print(\"Answer:\", nthUglyNumber(4, 2, 3, 4))     # 6\n",
    "print(\"Answer:\", nthUglyNumber(5, 2, 11, 13))   # 10"
   ]
  },
  {
   "cell_type": "code",
   "execution_count": 15,
   "metadata": {},
   "outputs": [
    {
     "name": "stdout",
     "output_type": "stream",
     "text": [
      "Answer: 5\n",
      "Answer: 44\n",
      "Answer: 3\n"
     ]
    }
   ],
   "source": [
    "# LC : 1283. Find the Smallest Divisor Given a Threshold (https://leetcode.com/problems/find-the-smallest-divisor-given-a-threshold/description/)\n",
    "\n",
    "def smallestDivisor(nums, threshold):\n",
    "    def condition(divisor):\n",
    "        # n - 1 because 1 / 5 = 0.2 (apply ceil) then 1 but\n",
    "        # 5 / 5 = 1 (apply ceil) then also 1\n",
    "        # so to mimic that here, (1 - 1) // 5 + 1 = 0 // 5 + 1 = 0 + 1 = 1\n",
    "        # (5 - 1) // 5 + 1 = 4 // 5 + 1 = 0 + 1 = 1\n",
    "        return sum((n - 1) // divisor + 1 for n in nums) <= threshold\n",
    "    \n",
    "    left, right = 1, max(nums)\n",
    "    while left < right:\n",
    "        mid = (left + right) >> 1\n",
    "        if condition(mid):\n",
    "            right = mid\n",
    "        else:\n",
    "            left = mid + 1\n",
    "    return left\n",
    "\n",
    "print(\"Answer:\", smallestDivisor([1,2,5,9], 6))\n",
    "print(\"Answer:\", smallestDivisor([44,22,33,11,1], 5))\n",
    "print(\"Answer:\", smallestDivisor([2,3,5,7,11], 11))"
   ]
  },
  {
   "cell_type": "code",
   "execution_count": 16,
   "metadata": {},
   "outputs": [
    {
     "name": "stdout",
     "output_type": "stream",
     "text": [
      "Answer: 2\n",
      "Answer: 3\n",
      "Answer: 3\n",
      "\n",
      "Futher Optimized Approach with Fast & Slow pointer (Floyd's Cycle Detection)\n",
      "Answer: 2\n",
      "Answer: 3\n",
      "Answer: 3\n"
     ]
    }
   ],
   "source": [
    "# LC : \n",
    "\n",
    "def findDuplicate(nums):\n",
    "    low, high = 1, len(nums) - 1\n",
    "    \n",
    "    while low < high:\n",
    "        mid = (low + high) // 2\n",
    "        count = 0\n",
    "        for num in nums:\n",
    "            if num <= mid:\n",
    "                count += 1\n",
    "        if count > mid:\n",
    "            high = mid\n",
    "        else:\n",
    "            low = mid + 1\n",
    "            \n",
    "    return low\n",
    "\n",
    "print(\"Answer:\", findDuplicate([1,3,4,2,2]))    # 2\n",
    "print(\"Answer:\", findDuplicate([3,1,3,4,2]))    # 3\n",
    "print(\"Answer:\", findDuplicate([3,3,3,3,3]))    # 3\n",
    "\n",
    "print(\"\\nFuther Optimized Approach with Fast & Slow pointer (Floyd's Cycle Detection)\")\n",
    "\n",
    "\n",
    "def findDuplicateOptimized(nums):\n",
    "    fast = slow = nums[0]\n",
    "\n",
    "    while True:\n",
    "        slow = nums[slow]\n",
    "        fast = nums[nums[fast]]\n",
    "        if slow == fast:\n",
    "            break\n",
    "    \n",
    "    fast = nums[0]\n",
    "    while slow != fast:\n",
    "        slow, fast = nums[slow], nums[fast]\n",
    "    \n",
    "    return slow\n",
    "\n",
    "print(\"Answer:\", findDuplicateOptimized([1,3,4,2,2]))   # 2\n",
    "print(\"Answer:\", findDuplicateOptimized([3,1,3,4,2]))   # 3\n",
    "print(\"Answer:\", findDuplicateOptimized([3,3,3,3,3]))   # 3"
   ]
  }
 ],
 "metadata": {
  "kernelspec": {
   "display_name": ".venv",
   "language": "python",
   "name": "python3"
  },
  "language_info": {
   "codemirror_mode": {
    "name": "ipython",
    "version": 3
   },
   "file_extension": ".py",
   "mimetype": "text/x-python",
   "name": "python",
   "nbconvert_exporter": "python",
   "pygments_lexer": "ipython3",
   "version": "3.12.1"
  }
 },
 "nbformat": 4,
 "nbformat_minor": 2
}
