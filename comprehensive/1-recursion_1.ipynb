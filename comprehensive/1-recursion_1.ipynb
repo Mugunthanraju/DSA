{
 "cells": [
  {
   "cell_type": "code",
   "execution_count": 1,
   "metadata": {},
   "outputs": [
    {
     "data": {
      "text/plain": [
       "120"
      ]
     },
     "execution_count": 1,
     "metadata": {},
     "output_type": "execute_result"
    }
   ],
   "source": [
    "# Factorial \n",
    "\n",
    "def factorial(n):\n",
    "    if n < 2:\n",
    "        return 1\n",
    "    return n * factorial(n-1)\n",
    "factorial(5)"
   ]
  },
  {
   "cell_type": "code",
   "execution_count": 12,
   "metadata": {},
   "outputs": [
    {
     "data": {
      "text/plain": [
       "8"
      ]
     },
     "execution_count": 12,
     "metadata": {},
     "output_type": "execute_result"
    }
   ],
   "source": [
    "# Fibonacci\n",
    "\n",
    "def fibonacci(n):\n",
    "    if n == 1 or n == 2:\n",
    "        return 1\n",
    "    if n <= 0:\n",
    "        return 0\n",
    "    return fibonacci(n-1) + fibonacci(n-2)\n",
    "fibonacci(6)"
   ]
  },
  {
   "cell_type": "code",
   "execution_count": 10,
   "metadata": {},
   "outputs": [
    {
     "data": {
      "text/plain": [
       "15"
      ]
     },
     "execution_count": 10,
     "metadata": {},
     "output_type": "execute_result"
    }
   ],
   "source": [
    "# Sum of n numbers\n",
    "def sumN(n) :\n",
    "    if n == 0:\n",
    "        return 0\n",
    "    return n + sumN(n-1)\n",
    "sumN(5)"
   ]
  },
  {
   "cell_type": "code",
   "execution_count": 11,
   "metadata": {},
   "outputs": [
    {
     "name": "stdout",
     "output_type": "stream",
     "text": [
      "1 2 3 4 5 6 7 8 9 10 "
     ]
    }
   ],
   "source": [
    "# Print first n naturals number\n",
    "def naturalNum(n):\n",
    "    if n <= 0:\n",
    "        return\n",
    "    naturalNum(n-1)\n",
    "    print(n, end=\" \")\n",
    "    return\n",
    "naturalNum(10)"
   ]
  },
  {
   "cell_type": "markdown",
   "metadata": {},
   "source": [
    "To change the recursion's default limit in python \n",
    "\n",
    "Here is the syntax:\n",
    "```python\n",
    "import sys\n",
    "# default it will be 1000\n",
    "sys.setrecursionlimit(3000)\n",
    "```"
   ]
  },
  {
   "cell_type": "code",
   "execution_count": 43,
   "metadata": {},
   "outputs": [
    {
     "data": {
      "text/plain": [
       "True"
      ]
     },
     "execution_count": 43,
     "metadata": {},
     "output_type": "execute_result"
    }
   ],
   "source": [
    "# If the list is sorted or not\n",
    "\n",
    "def isSorted(arr, i=0):\n",
    "    if len(arr) == i + 1 or len(arr) == i:\n",
    "        return True\n",
    "    if arr[i] > arr[i+1]:\n",
    "        return False\n",
    "    return isSorted(arr, i+1)\n",
    "isSorted([1,2,3,4])"
   ]
  },
  {
   "cell_type": "code",
   "execution_count": 27,
   "metadata": {},
   "outputs": [
    {
     "data": {
      "text/plain": [
       "6"
      ]
     },
     "execution_count": 27,
     "metadata": {},
     "output_type": "execute_result"
    }
   ],
   "source": [
    "# Sum of an array:\n",
    "def sumArr(arr, i=0):\n",
    "    if len(arr) <= i:\n",
    "        return 0\n",
    "    return arr[i] + sumArr(arr, i+1)\n",
    "sumArr([3, -6, 9])"
   ]
  },
  {
   "cell_type": "code",
   "execution_count": 40,
   "metadata": {},
   "outputs": [
    {
     "data": {
      "text/plain": [
       "(True, 1)"
      ]
     },
     "execution_count": 40,
     "metadata": {},
     "output_type": "execute_result"
    }
   ],
   "source": [
    "# Check whether a number present in the array and provide its first occurence index\n",
    "def checkNum(arr, target, i=0):\n",
    "    if len(arr) <= i:\n",
    "        return False, -1\n",
    "    if arr[i] == target:\n",
    "        return True, i\n",
    "    return checkNum(arr, target, i+1)\n",
    "checkNum([3, 4, 5], 4)"
   ]
  },
  {
   "cell_type": "code",
   "execution_count": 49,
   "metadata": {},
   "outputs": [
    {
     "data": {
      "text/plain": [
       "4"
      ]
     },
     "execution_count": 49,
     "metadata": {},
     "output_type": "execute_result"
    }
   ],
   "source": [
    "# Last Index of the number\n",
    "def lastInd(arr, target, i):\n",
    "    if i < 0 or i >= len(arr):\n",
    "        return -1\n",
    "    if arr[i] == target:\n",
    "        return i\n",
    "    return lastInd(arr, target, i-1)\n",
    "\n",
    "lastIndArr = [1,4,5,2,5,1,3]\n",
    "lastInd(lastIndArr, 5, len(lastIndArr)-1)\n"
   ]
  },
  {
   "cell_type": "code",
   "execution_count": 53,
   "metadata": {},
   "outputs": [
    {
     "data": {
      "text/plain": [
       "'lkThghTkl'"
      ]
     },
     "execution_count": 53,
     "metadata": {},
     "output_type": "execute_result"
    }
   ],
   "source": [
    "# Replace chars in a string in recursion\n",
    "\n",
    "def replaceChars(s, a, b):\n",
    "    if len(s) == 0:\n",
    "        return s\n",
    "    smallOutput = replaceChars(s[1:], a, b)\n",
    "    if s[0] == a:\n",
    "        return b + smallOutput\n",
    "    else:\n",
    "        return s[0] + smallOutput\n",
    "replaceChars(\"lkjhghjkl\", \"j\", \"T\")"
   ]
  },
  {
   "cell_type": "code",
   "execution_count": 57,
   "metadata": {},
   "outputs": [
    {
     "data": {
      "text/plain": [
       "'3.14gs3.14fgsdfg3.14o'"
      ]
     },
     "execution_count": 57,
     "metadata": {},
     "output_type": "execute_result"
    }
   ],
   "source": [
    "# Replace substring in a string in recursion\n",
    "\n",
    "def replaceSubStr(s, a, b):\n",
    "    if len(s) < 2:\n",
    "        return s\n",
    "    if s[0] == a[0] and s[1] == a[1]:\n",
    "        return b + replaceSubStr(s[2:], a, b)\n",
    "    else:\n",
    "        return s[0] + replaceSubStr(s[1:], a, b)\n",
    "\n",
    "replaceSubStr(\"pigspifgsdfgpio\", \"pi\", \"3.14\") "
   ]
  },
  {
   "cell_type": "code",
   "execution_count": 67,
   "metadata": {},
   "outputs": [
    {
     "data": {
      "text/plain": [
       "-1"
      ]
     },
     "execution_count": 67,
     "metadata": {},
     "output_type": "execute_result"
    }
   ],
   "source": [
    "# Binary Search\n",
    "\n",
    "def binarySearch(arr, x, si, ei):\n",
    "    if si > ei:\n",
    "        return -1\n",
    "    \n",
    "    mid = (si + ei) // 2\n",
    "\n",
    "    if arr[mid] == x:\n",
    "        return mid\n",
    "    elif arr[mid] > x:\n",
    "        return binarySearch(arr, x, si, mid-1)\n",
    "    else:\n",
    "        return binarySearch(arr, x, mid+1, ei)\n",
    "\n",
    "binarySearchArr = [1, 4, 6, 7, 9]\n",
    "\n",
    "binarySearch(binarySearchArr, 2, 0, len(binarySearchArr)-1)"
   ]
  },
  {
   "cell_type": "code",
   "execution_count": 1,
   "metadata": {},
   "outputs": [
    {
     "name": "stdout",
     "output_type": "stream",
     "text": [
      "[1, 2, 3, 4, 5, 6, 8, 9]\n"
     ]
    }
   ],
   "source": [
    " # Merge Sort\n",
    "\n",
    "def merge(a1, a2, a):\n",
    "    i = 0\n",
    "    j = 0\n",
    "    k = 0\n",
    "\n",
    "    while i < len(a1) and j < len(a2):\n",
    "        if a1[i] < a2[j]:\n",
    "            a[k] = a1[i]\n",
    "            i += 1\n",
    "        else:\n",
    "            a[k] = a2[j]\n",
    "            j += 1\n",
    "        k += 1\n",
    "    \n",
    "    while i < len(a1):\n",
    "        a[k] = a1[i]\n",
    "        k += 1\n",
    "        i += 1\n",
    "    \n",
    "    while j < len(a2):\n",
    "        a[k] = a2[j]\n",
    "        j += 1\n",
    "        k += 1\n",
    "\n",
    "    \n",
    "def mergeSort(a):\n",
    "    if len(a) < 2:\n",
    "        return \n",
    "    \n",
    "    mid = len(a) // 2\n",
    "\n",
    "    a1 = a[mid:]\n",
    "    a2 = a[:mid]\n",
    "\n",
    "    mergeSort(a1)\n",
    "    mergeSort(a2)\n",
    "\n",
    "    merge(a1, a2, a)\n",
    "\n",
    "mergeSortArr = [4, 2, 6, 3, 9, 8, 1, 5]\n",
    "mergeSort(mergeSortArr)\n",
    "print(mergeSortArr)"
   ]
  },
  {
   "cell_type": "code",
   "execution_count": 6,
   "metadata": {},
   "outputs": [
    {
     "name": "stdout",
     "output_type": "stream",
     "text": [
      "[2, 3, 4, 5, 6, 7, 8, 9]\n"
     ]
    }
   ],
   "source": [
    "def partition(arr, si, ei):\n",
    "    pivot = arr[si]\n",
    "\n",
    "    # Find number of elements smaller than pivot\n",
    "    c = 0\n",
    "    for i in range(si, ei + 1):\n",
    "        if arr[i] < pivot:\n",
    "            c = c + 1\n",
    "    arr[si + c], arr[si] = arr[si], arr[si + c]\n",
    "    pivot_index = si + c\n",
    "\n",
    "    i = si\n",
    "    j = ei\n",
    "\n",
    "    while i < j:\n",
    "        if arr[i] < pivot:\n",
    "            i += 1\n",
    "        elif arr[j] >= pivot:\n",
    "            j -= 1\n",
    "        else:\n",
    "            arr[i], arr[j] = arr[j], arr[i]\n",
    "            i += 1\n",
    "            j += 1\n",
    "    \n",
    "    return pivot_index\n",
    "\n",
    "def quickSort(arr, si , ei):\n",
    "    if si >= ei:\n",
    "        return \n",
    "    \n",
    "    pivot_index = partition(arr, si, ei)\n",
    "    quickSort(arr, si, pivot_index - 1)\n",
    "    quickSort(arr, pivot_index + 1, ei)\n",
    "\n",
    "\n",
    "quickSortArr = [9, 2, 8, 3, 7, 4, 6, 5]\n",
    "quickSort(quickSortArr, 0, len(quickSortArr) - 1)\n",
    "print(quickSortArr)\n",
    "\n",
    "# def shortQuickSort(arr):\n",
    "#     if len(arr) < 2:\n",
    "#         return arr\n",
    "    \n",
    "#     pivot = arr[0]\n",
    "#     left = [ x for x in arr[1:] if x < pivot ]\n",
    "#     right = [ x for x in arr[1:] if x >= pivot ]\n",
    "#     return shortQuickSort(left) + [pivot] + shortQuickSort(right)\n",
    "# shortQuickSort(quickSortArr)"
   ]
  },
  {
   "cell_type": "code",
   "execution_count": 9,
   "metadata": {},
   "outputs": [
    {
     "name": "stdout",
     "output_type": "stream",
     "text": [
      "move 1 disk from x to z\n",
      "move 2 disk from x to y\n",
      "move 1 disk from z to y\n",
      "move 3 disk from x to z\n",
      "move 1 disk from y to x\n",
      "move 2 disk from y to z\n",
      "move 1 disk from x to z\n"
     ]
    }
   ],
   "source": [
    "# Tower of Hanoi\n",
    "\n",
    "def tower_hanoi(n, a, b, c):\n",
    "    if n == 1:\n",
    "        print(f\"move {n} disk from {a} to {c}\")\n",
    "        return\n",
    "    tower_hanoi(n-1, a, c, b)\n",
    "    print(f\"move {n} disk from {a} to {c}\")\n",
    "    tower_hanoi(n-1, b, a, c)\n",
    "\n",
    "tower_hanoi(3, \"x\", \"y\", \"z\")"
   ]
  },
  {
   "cell_type": "code",
   "execution_count": 16,
   "metadata": {},
   "outputs": [
    {
     "name": "stdout",
     "output_type": "stream",
     "text": [
      "1.96875\n"
     ]
    }
   ],
   "source": [
    "# Geometric series\n",
    "\n",
    "def geoSeries(common, n):\n",
    "    if n == 0:\n",
    "        return 1\n",
    "    return ( 1 / (common ** n) + geoSeries(common, n - 1) )\n",
    "\n",
    "print(geoSeries(2, 5))"
   ]
  },
  {
   "cell_type": "code",
   "execution_count": 29,
   "metadata": {},
   "outputs": [
    {
     "data": {
      "text/plain": [
       "True"
      ]
     },
     "execution_count": 29,
     "metadata": {},
     "output_type": "execute_result"
    }
   ],
   "source": [
    "# Check whether a word is palindrome\n",
    "\n",
    "def palindrome(word, si, ei):\n",
    "    if si >= ei:\n",
    "        return True\n",
    "    if word[si] != word[ei]:\n",
    "        return False\n",
    "    return palindrome(word, si+1, ei-1)\n",
    "\n",
    "palindromeCheckerWord = \"wow\"\n",
    "palindrome(palindromeCheckerWord , 0, len(palindromeCheckerWord) - 1)"
   ]
  },
  {
   "cell_type": "code",
   "execution_count": 32,
   "metadata": {},
   "outputs": [
    {
     "name": "stdout",
     "output_type": "stream",
     "text": [
      "24\n",
      "3207\n",
      "0\n"
     ]
    }
   ],
   "source": [
    "# string to integer (Implementation is wrong)\n",
    "\n",
    "def string_to_int(s, index=0):\n",
    "    \"\"\"\n",
    "    Recursively converts a string representation of an integer to an actual integer.\n",
    "\n",
    "    Parameters:\n",
    "    s (str): The string representation of the integer.\n",
    "    index (int): The current index in the string (default is 0).\n",
    "\n",
    "    Returns:\n",
    "    int: The integer value of the input string.\n",
    "    \"\"\"\n",
    "    if index == len(s):\n",
    "        return 0\n",
    "    \n",
    "    digit = ord(s[index]) - ord('0')\n",
    "    return digit + 10 * string_to_int(s, index + 1)\n",
    "\n",
    "print(string_to_int(\"42\"))  # Output: 42\n",
    "print(string_to_int(\"-123\"))  # Output: -123\n",
    "print(string_to_int(\"0\"))  # Output: 0"
   ]
  }
 ],
 "metadata": {
  "kernelspec": {
   "display_name": "Python 3",
   "language": "python",
   "name": "python3"
  },
  "language_info": {
   "codemirror_mode": {
    "name": "ipython",
    "version": 3
   },
   "file_extension": ".py",
   "mimetype": "text/x-python",
   "name": "python",
   "nbconvert_exporter": "python",
   "pygments_lexer": "ipython3",
   "version": "3.12.1"
  }
 },
 "nbformat": 4,
 "nbformat_minor": 2
}
