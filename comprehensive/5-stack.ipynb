{
 "cells": [
  {
   "cell_type": "markdown",
   "metadata": {},
   "source": [
    "# Stack"
   ]
  },
  {
   "cell_type": "code",
   "execution_count": 18,
   "metadata": {},
   "outputs": [],
   "source": [
    "# importing inbuilt stack \n",
    "\n",
    "from queue import LifoQueue as Stack\n",
    "\n",
    "# Using list as Stack\n",
    "\n",
    "listAsStack = list()"
   ]
  },
  {
   "cell_type": "code",
   "execution_count": 15,
   "metadata": {},
   "outputs": [
    {
     "data": {
      "text/plain": [
       "[1, 1, 2, 4, 5, 1]"
      ]
     },
     "execution_count": 15,
     "metadata": {},
     "output_type": "execute_result"
    }
   ],
   "source": [
    "# Stock Span problem\n",
    "\n",
    "def stockSpan(price):\n",
    "    n = len(price)\n",
    "    span = [0] * n\n",
    "    stack = []\n",
    "    \n",
    "    for i in range(n):\n",
    "        while stack and price[stack[-1]] <= price[i]:\n",
    "            stack.pop()\n",
    "        span[i] = (i+1) if not stack else (i - stack[-1])\n",
    "        stack.append(i)\n",
    "        \n",
    "    return span\n",
    "\n",
    "stockSpan([10, 4, 5, 90, 120, 80])"
   ]
  },
  {
   "cell_type": "code",
   "execution_count": 16,
   "metadata": {},
   "outputs": [
    {
     "name": "stdout",
     "output_type": "stream",
     "text": [
      "3\n",
      "3\n",
      "2\n",
      "1\n"
     ]
    }
   ],
   "source": [
    "# Create a Stack\n",
    "stack = Stack()\n",
    "\n",
    "# Push elements to the stack\n",
    "stack.put(1)\n",
    "stack.put(2)\n",
    "stack.put(3)\n",
    "\n",
    "# Peek the top element\n",
    "top_element = stack.queue[-1]\n",
    "print(top_element)  # Output: 3\n",
    "\n",
    "# Pop elements from the stack\n",
    "print(stack.get())  # Output: 3\n",
    "print(stack.get())  # Output: 2\n",
    "print(stack.get())  # Output: 1"
   ]
  }
 ],
 "metadata": {
  "kernelspec": {
   "display_name": ".venv",
   "language": "python",
   "name": "python3"
  },
  "language_info": {
   "codemirror_mode": {
    "name": "ipython",
    "version": 3
   },
   "file_extension": ".py",
   "mimetype": "text/x-python",
   "name": "python",
   "nbconvert_exporter": "python",
   "pygments_lexer": "ipython3",
   "version": "3.12.1"
  }
 },
 "nbformat": 4,
 "nbformat_minor": 2
}
