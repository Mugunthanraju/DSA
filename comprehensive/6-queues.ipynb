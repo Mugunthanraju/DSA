{
 "cells": [
  {
   "cell_type": "markdown",
   "metadata": {},
   "source": [
    "# Queue"
   ]
  },
  {
   "cell_type": "code",
   "execution_count": 2,
   "metadata": {},
   "outputs": [],
   "source": [
    "from queue import Queue"
   ]
  },
  {
   "cell_type": "code",
   "execution_count": 3,
   "metadata": {},
   "outputs": [],
   "source": [
    "# Creating inbuilt queue\n",
    "sampleQueue = Queue()"
   ]
  },
  {
   "cell_type": "code",
   "execution_count": 4,
   "metadata": {},
   "outputs": [],
   "source": [
    "# Enqueuing items into queue\n",
    "sampleQueue.put(1)\n",
    "sampleQueue.put(2)\n",
    "sampleQueue.put(3)\n",
    "sampleQueue.put(4)\n",
    "sampleQueue.put(5)"
   ]
  },
  {
   "cell_type": "code",
   "execution_count": 7,
   "metadata": {},
   "outputs": [
    {
     "name": "stdout",
     "output_type": "stream",
     "text": [
      "1\n",
      "2\n",
      "3\n",
      "4\n",
      "5\n"
     ]
    }
   ],
   "source": [
    "# Check whether queue is empty or not\n",
    "while not sampleQueue.empty():\n",
    "    # Dequeuing items from queue\n",
    "    print( sampleQueue.get() ) # print dequeued item"
   ]
  },
  {
   "cell_type": "code",
   "execution_count": 8,
   "metadata": {},
   "outputs": [
    {
     "name": "stdout",
     "output_type": "stream",
     "text": [
      "1\n",
      "2\n",
      "3\n",
      "4\n"
     ]
    }
   ],
   "source": [
    "class QueueUsingTwoStacks:\n",
    "\n",
    "    def __init__(self) -> None:\n",
    "        self.s1 = []\n",
    "        self.s2 = []\n",
    "\n",
    "    def enqueue(self, data):\n",
    "        while self.s1:\n",
    "            self.s2.append(self.s1.pop())\n",
    "        \n",
    "        self.s1.append(data)\n",
    "        \n",
    "        while self.s2:\n",
    "            self.s1.append(self.s2.pop())\n",
    "\n",
    "    def deqeue(self):\n",
    "        if not self.s1:\n",
    "            return -1\n",
    "        return self.s1.pop()\n",
    "    \n",
    "    def front(self):\n",
    "        if not self.s1:\n",
    "            return -1\n",
    "        return self.s1[-1]\n",
    "    \n",
    "    def size(self):\n",
    "        return len(self.s1)\n",
    "    \n",
    "    def empty(self):\n",
    "        return self.size() == 0\n",
    "\n",
    "queueUsing2Stacks = QueueUsingTwoStacks()\n",
    "queueUsing2Stacks.enqueue(1)\n",
    "queueUsing2Stacks.enqueue(2)\n",
    "queueUsing2Stacks.enqueue(3)\n",
    "queueUsing2Stacks.enqueue(4)\n",
    "\n",
    "print(queueUsing2Stacks.deqeue())\n",
    "print(queueUsing2Stacks.deqeue())\n",
    "print(queueUsing2Stacks.deqeue())\n",
    "print(queueUsing2Stacks.deqeue())\n",
    "\n"
   ]
  }
 ],
 "metadata": {
  "kernelspec": {
   "display_name": ".venv",
   "language": "python",
   "name": "python3"
  },
  "language_info": {
   "codemirror_mode": {
    "name": "ipython",
    "version": 3
   },
   "file_extension": ".py",
   "mimetype": "text/x-python",
   "name": "python",
   "nbconvert_exporter": "python",
   "pygments_lexer": "ipython3",
   "version": "3.12.1"
  }
 },
 "nbformat": 4,
 "nbformat_minor": 2
}
