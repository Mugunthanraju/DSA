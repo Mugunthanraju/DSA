{
 "cells": [
  {
   "cell_type": "markdown",
   "metadata": {},
   "source": [
    "### Binary Tree\n",
    "\n"
   ]
  },
  {
   "cell_type": "code",
   "execution_count": 1,
   "metadata": {},
   "outputs": [],
   "source": [
    "class BTNode:\n",
    "    def __init__(self, data) -> None:\n",
    "        self.data = data\n",
    "        self.left = None\n",
    "        self.right = None\n"
   ]
  },
  {
   "cell_type": "code",
   "execution_count": 9,
   "metadata": {},
   "outputs": [],
   "source": [
    "def treeIntInput():\n",
    "    rootData = int(input())\n",
    "    if rootData < 1:\n",
    "        return\n",
    "    root = BTNode(rootData)\n",
    "    leftTree = treeIntInput()\n",
    "    rightTree = treeIntInput()\n",
    "    root.left = leftTree\n",
    "    root.right = rightTree\n",
    "    return root\n"
   ]
  },
  {
   "cell_type": "code",
   "execution_count": 11,
   "metadata": {},
   "outputs": [],
   "source": [
    "def printTree(root):\n",
    "    if not root:\n",
    "        return\n",
    "    print(root.data, end=\" :\")\n",
    "    if root.left:\n",
    "        print(\" L =\", root.left.data, end='')\n",
    "    if root.right:\n",
    "        print(\" R =\", root.right.data, end='')\n",
    "    print()\n",
    "    printTree(root.left)\n",
    "    printTree(root.right)"
   ]
  },
  {
   "cell_type": "code",
   "execution_count": 13,
   "metadata": {},
   "outputs": [],
   "source": [
    "sampleRoot = treeIntInput()"
   ]
  },
  {
   "cell_type": "code",
   "execution_count": 19,
   "metadata": {},
   "outputs": [
    {
     "name": "stdout",
     "output_type": "stream",
     "text": [
      "1 : L = 2 R = 3\n",
      "2 : L = 4 R = 5\n",
      "4 :\n",
      "5 :\n",
      "3 : R = 7\n",
      "7 :\n"
     ]
    }
   ],
   "source": [
    "printTree(sampleRoot)\n",
    "\n",
    "#        1\n",
    "#    2       3\n",
    "#  4   5       7"
   ]
  },
  {
   "cell_type": "code",
   "execution_count": 24,
   "metadata": {},
   "outputs": [
    {
     "data": {
      "text/plain": [
       "6"
      ]
     },
     "execution_count": 24,
     "metadata": {},
     "output_type": "execute_result"
    }
   ],
   "source": [
    "def numNodes(root):\n",
    "    if not root:\n",
    "        return 0\n",
    "    leftCount = numNodes(root.left)\n",
    "    rightCount = numNodes(root.right)\n",
    "    \n",
    "    return 1 + leftCount + rightCount\n",
    "\n",
    "numNodes(sampleRoot) # 6"
   ]
  },
  {
   "cell_type": "code",
   "execution_count": 23,
   "metadata": {},
   "outputs": [
    {
     "data": {
      "text/plain": [
       "7"
      ]
     },
     "execution_count": 23,
     "metadata": {},
     "output_type": "execute_result"
    }
   ],
   "source": [
    "def largestNode(root):\n",
    "    if not root:\n",
    "        return -1\n",
    "    leftLargest = largestNode(root.left)\n",
    "    rightLarget = largestNode(root.right)\n",
    "\n",
    "    return max(root.data, leftLargest, rightLarget)\n",
    "\n",
    "largestNode(sampleRoot) # 7"
   ]
  },
  {
   "cell_type": "code",
   "execution_count": 25,
   "metadata": {},
   "outputs": [
    {
     "data": {
      "text/plain": [
       "3"
      ]
     },
     "execution_count": 25,
     "metadata": {},
     "output_type": "execute_result"
    }
   ],
   "source": [
    "def heightTree(root):\n",
    "    if not root:\n",
    "        return 0\n",
    "    leftHeight = heightTree(root.left)\n",
    "    rightHeight = heightTree(root.right)\n",
    "    \n",
    "    return 1 + max(leftHeight, rightHeight)\n",
    "\n",
    "heightTree(sampleRoot) # 3"
   ]
  },
  {
   "cell_type": "code",
   "execution_count": 27,
   "metadata": {},
   "outputs": [
    {
     "data": {
      "text/plain": [
       "3"
      ]
     },
     "execution_count": 27,
     "metadata": {},
     "output_type": "execute_result"
    }
   ],
   "source": [
    "def numLeafNodes(root):\n",
    "    if not root:\n",
    "        return 0\n",
    "    if not root.left and not root.right:\n",
    "        return 1\n",
    "    leftLeaves = numLeafNodes(root.left)\n",
    "    rightleaves = numLeafNodes(root.right)\n",
    "\n",
    "    return leftLeaves + rightleaves\n",
    "\n",
    "numLeafNodes(sampleRoot) # 3"
   ]
  },
  {
   "cell_type": "code",
   "execution_count": 30,
   "metadata": {},
   "outputs": [
    {
     "name": "stdout",
     "output_type": "stream",
     "text": [
      "2 3 "
     ]
    }
   ],
   "source": [
    "def printAtDepthK(root, k=0):\n",
    "    if not root or k < 0:\n",
    "        return\n",
    "\n",
    "    if k == 0:\n",
    "        print(root.data, end=\" \")\n",
    "        return \n",
    "\n",
    "    # left \n",
    "    printAtDepthK(root.left, k-1) \n",
    "\n",
    "    # right\n",
    "    printAtDepthK(root.right, k-1)\n",
    "\n",
    "printAtDepthK(sampleRoot, 1) "
   ]
  },
  {
   "cell_type": "code",
   "execution_count": 32,
   "metadata": {},
   "outputs": [
    {
     "name": "stdout",
     "output_type": "stream",
     "text": [
      "1 \n",
      "2 3 \n",
      "4 5 7 \n"
     ]
    }
   ],
   "source": [
    "def levelOrder(root):\n",
    "    if not root:\n",
    "        return\n",
    "    from collections import deque\n",
    "\n",
    "    queue = deque()\n",
    "    queue.append(root)\n",
    "\n",
    "    while queue:\n",
    "        for _ in range(len(queue)):\n",
    "            node = queue.popleft()\n",
    "            if node.left:\n",
    "                queue.append(node.left)\n",
    "            if node.right:\n",
    "                queue.append(node.right)\n",
    "            print(node.data, end=\" \")\n",
    "        print()\n",
    "\n",
    "levelOrder(sampleRoot) # [1] [2 3] [4 5 7]"
   ]
  },
  {
   "cell_type": "code",
   "execution_count": 33,
   "metadata": {},
   "outputs": [
    {
     "ename": "TypeError",
     "evalue": "unsupported operand type(s) for +: 'BTNode' and 'int'",
     "output_type": "error",
     "traceback": [
      "\u001b[0;31m---------------------------------------------------------------------------\u001b[0m",
      "\u001b[0;31mTypeError\u001b[0m                                 Traceback (most recent call last)",
      "Cell \u001b[0;32mIn[33], line 45\u001b[0m\n\u001b[1;32m     41\u001b[0m         subtree_at_k(node\u001b[38;5;241m.\u001b[39mright, k, distance \u001b[38;5;241m+\u001b[39m \u001b[38;5;241m1\u001b[39m)\n\u001b[1;32m     43\u001b[0m     dfs(root)\n\u001b[0;32m---> 45\u001b[0m \u001b[43mdistanceK\u001b[49m\u001b[43m(\u001b[49m\u001b[43msampleRoot\u001b[49m\u001b[43m,\u001b[49m\u001b[43m \u001b[49m\u001b[38;5;241;43m2\u001b[39;49m\u001b[43m,\u001b[49m\u001b[43m \u001b[49m\u001b[38;5;241;43m2\u001b[39;49m\u001b[43m)\u001b[49m\n",
      "Cell \u001b[0;32mIn[33], line 43\u001b[0m, in \u001b[0;36mdistanceK\u001b[0;34m(root, target, k)\u001b[0m\n\u001b[1;32m     40\u001b[0m     subtree_at_k(node\u001b[38;5;241m.\u001b[39mleft, k, distance \u001b[38;5;241m+\u001b[39m \u001b[38;5;241m1\u001b[39m)\n\u001b[1;32m     41\u001b[0m     subtree_at_k(node\u001b[38;5;241m.\u001b[39mright, k, distance \u001b[38;5;241m+\u001b[39m \u001b[38;5;241m1\u001b[39m)\n\u001b[0;32m---> 43\u001b[0m \u001b[43mdfs\u001b[49m\u001b[43m(\u001b[49m\u001b[43mroot\u001b[49m\u001b[43m)\u001b[49m\n",
      "Cell \u001b[0;32mIn[33], line 19\u001b[0m, in \u001b[0;36mdistanceK.<locals>.dfs\u001b[0;34m(node)\u001b[0m\n\u001b[1;32m     17\u001b[0m         \u001b[38;5;28mprint\u001b[39m(node\u001b[38;5;241m.\u001b[39mdata)\n\u001b[1;32m     18\u001b[0m     \u001b[38;5;28;01melse\u001b[39;00m:\n\u001b[0;32m---> 19\u001b[0m         subtree_at_k(left, k, \u001b[43mleft\u001b[49m\u001b[43m \u001b[49m\u001b[38;5;241;43m+\u001b[39;49m\u001b[43m \u001b[49m\u001b[38;5;241;43m1\u001b[39;49m)\n\u001b[1;32m     20\u001b[0m     \u001b[38;5;28;01mreturn\u001b[39;00m left\n\u001b[1;32m     22\u001b[0m right \u001b[38;5;241m=\u001b[39m dfs(node\u001b[38;5;241m.\u001b[39mright)\n",
      "\u001b[0;31mTypeError\u001b[0m: unsupported operand type(s) for +: 'BTNode' and 'int'"
     ]
    }
   ],
   "source": [
    "#  print all the nodes at a distance 'k' from a given node in a binary tree\n",
    "\n",
    "def distanceK(root, target, k):\n",
    "    def dfs(node):\n",
    "        if not node:\n",
    "            return None\n",
    "        \n",
    "        # If the current node is the target node\n",
    "        if node.data == target:\n",
    "            subtree_at_k(node, k, 0)\n",
    "            return node\n",
    "        \n",
    "        # Recursively search the left and right subtrees\n",
    "        left = dfs(node.left)\n",
    "        if left:\n",
    "            if left == k:\n",
    "                print(node.data)\n",
    "            else:\n",
    "                subtree_at_k(left, k, left + 1)\n",
    "            return left\n",
    "        \n",
    "        right = dfs(node.right)\n",
    "        if right:\n",
    "            if right == k:\n",
    "                print(node.data)\n",
    "            else:\n",
    "                subtree_at_k(right, k, right + 1)\n",
    "            return right\n",
    "        \n",
    "        return None\n",
    "    \n",
    "    def subtree_at_k(node, k, distance):\n",
    "        if not node:\n",
    "            return\n",
    "        \n",
    "        if distance == k:\n",
    "            print(node.data)\n",
    "            return\n",
    "        \n",
    "        subtree_at_k(node.left, k, distance + 1)\n",
    "        subtree_at_k(node.right, k, distance + 1)\n",
    "    \n",
    "    dfs(root)\n",
    "\n",
    "distanceK(sampleRoot, 2, 2)"
   ]
  }
 ],
 "metadata": {
  "kernelspec": {
   "display_name": ".venv",
   "language": "python",
   "name": "python3"
  },
  "language_info": {
   "codemirror_mode": {
    "name": "ipython",
    "version": 3
   },
   "file_extension": ".py",
   "mimetype": "text/x-python",
   "name": "python",
   "nbconvert_exporter": "python",
   "pygments_lexer": "ipython3",
   "version": "3.12.1"
  }
 },
 "nbformat": 4,
 "nbformat_minor": 2
}
